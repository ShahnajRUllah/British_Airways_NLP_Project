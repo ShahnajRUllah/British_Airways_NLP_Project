{
 "cells": [
  {
   "attachments": {},
   "cell_type": "markdown",
   "metadata": {},
   "source": [
    "#### EDA using topic modelling"
   ]
  },
  {
   "cell_type": "code",
   "execution_count": 1,
   "metadata": {},
   "outputs": [
    {
     "data": {
      "text/plain": [
       "['The', 'Fulton', 'County', 'Grand', 'Jury', 'said', ...]"
      ]
     },
     "execution_count": 1,
     "metadata": {},
     "output_type": "execute_result"
    }
   ],
   "source": [
    "import gensim\n",
    "from gensim.models.ldamulticore import LdaMulticore\n",
    "from gensim import corpora, models\n",
    "import pyLDAvis.gensim\n",
    "\n",
    "import nltk\n",
    "from nltk.corpus import stopwords\n",
    "import string \n",
    "from nltk.stem.wordnet import WordNetLemmatizer\n",
    "\n",
    "import warnings\n",
    "warnings.simplefilter('ignore')\n",
    "from itertools import chain\n",
    "\n",
    "# Check successful import of nltk\n",
    "from nltk.corpus import brown\n",
    "brown.words()"
   ]
  },
  {
   "cell_type": "code",
   "execution_count": 2,
   "metadata": {},
   "outputs": [],
   "source": [
    "import pandas as pd"
   ]
  },
  {
   "cell_type": "code",
   "execution_count": 4,
   "metadata": {},
   "outputs": [
    {
     "data": {
      "text/html": [
       "<div>\n",
       "<style scoped>\n",
       "    .dataframe tbody tr th:only-of-type {\n",
       "        vertical-align: middle;\n",
       "    }\n",
       "\n",
       "    .dataframe tbody tr th {\n",
       "        vertical-align: top;\n",
       "    }\n",
       "\n",
       "    .dataframe thead th {\n",
       "        text-align: right;\n",
       "    }\n",
       "</style>\n",
       "<table border=\"1\" class=\"dataframe\">\n",
       "  <thead>\n",
       "    <tr style=\"text-align: right;\">\n",
       "      <th></th>\n",
       "      <th>reviews</th>\n",
       "    </tr>\n",
       "  </thead>\n",
       "  <tbody>\n",
       "    <tr>\n",
       "      <th>0</th>\n",
       "      <td>✅ Trip Verified |  Very competent check in sta...</td>\n",
       "    </tr>\n",
       "    <tr>\n",
       "      <th>1</th>\n",
       "      <td>✅ Trip Verified |  Check in was so slow, no se...</td>\n",
       "    </tr>\n",
       "    <tr>\n",
       "      <th>2</th>\n",
       "      <td>✅ Trip Verified |  My review relates to the ap...</td>\n",
       "    </tr>\n",
       "    <tr>\n",
       "      <th>3</th>\n",
       "      <td>✅ Trip Verified | This was my first time flyin...</td>\n",
       "    </tr>\n",
       "    <tr>\n",
       "      <th>4</th>\n",
       "      <td>✅ Trip Verified |  Lots of cancellations and d...</td>\n",
       "    </tr>\n",
       "  </tbody>\n",
       "</table>\n",
       "</div>"
      ],
      "text/plain": [
       "                                             reviews\n",
       "0  ✅ Trip Verified |  Very competent check in sta...\n",
       "1  ✅ Trip Verified |  Check in was so slow, no se...\n",
       "2  ✅ Trip Verified |  My review relates to the ap...\n",
       "3  ✅ Trip Verified | This was my first time flyin...\n",
       "4  ✅ Trip Verified |  Lots of cancellations and d..."
      ]
     },
     "execution_count": 4,
     "metadata": {},
     "output_type": "execute_result"
    }
   ],
   "source": [
    "df = pd.read_csv('C:/Users/lavat/Documents/TheForage/BristishAirways/data/BA_reviews.csv', index_col=0)\n",
    "df.head() "
   ]
  },
  {
   "cell_type": "code",
   "execution_count": 5,
   "metadata": {},
   "outputs": [],
   "source": [
    "clean_df = df"
   ]
  },
  {
   "attachments": {},
   "cell_type": "markdown",
   "metadata": {},
   "source": [
    "#### Clean data"
   ]
  },
  {
   "cell_type": "code",
   "execution_count": 6,
   "metadata": {},
   "outputs": [
    {
     "data": {
      "text/html": [
       "<div>\n",
       "<style scoped>\n",
       "    .dataframe tbody tr th:only-of-type {\n",
       "        vertical-align: middle;\n",
       "    }\n",
       "\n",
       "    .dataframe tbody tr th {\n",
       "        vertical-align: top;\n",
       "    }\n",
       "\n",
       "    .dataframe thead th {\n",
       "        text-align: right;\n",
       "    }\n",
       "</style>\n",
       "<table border=\"1\" class=\"dataframe\">\n",
       "  <thead>\n",
       "    <tr style=\"text-align: right;\">\n",
       "      <th></th>\n",
       "      <th>reviews</th>\n",
       "    </tr>\n",
       "  </thead>\n",
       "  <tbody>\n",
       "    <tr>\n",
       "      <th>0</th>\n",
       "      <td>Very competent check in staff saw had a pro...</td>\n",
       "    </tr>\n",
       "    <tr>\n",
       "      <th>1</th>\n",
       "      <td>Check in was so slow no self check in and b...</td>\n",
       "    </tr>\n",
       "    <tr>\n",
       "      <th>2</th>\n",
       "      <td>My review relates to the appalling experien...</td>\n",
       "    </tr>\n",
       "    <tr>\n",
       "      <th>3</th>\n",
       "      <td>This was my first time flying with BA &amp; I wa...</td>\n",
       "    </tr>\n",
       "    <tr>\n",
       "      <th>4</th>\n",
       "      <td>Lots of cancellations and delays and no one...</td>\n",
       "    </tr>\n",
       "  </tbody>\n",
       "</table>\n",
       "</div>"
      ],
      "text/plain": [
       "                                             reviews\n",
       "0     Very competent check in staff saw had a pro...\n",
       "1     Check in was so slow no self check in and b...\n",
       "2     My review relates to the appalling experien...\n",
       "3    This was my first time flying with BA & I wa...\n",
       "4     Lots of cancellations and delays and no one..."
      ]
     },
     "execution_count": 6,
     "metadata": {},
     "output_type": "execute_result"
    }
   ],
   "source": [
    "clean_df['reviews'] = df['reviews'].str.replace('✅ Trip Verified', '')\n",
    "clean_df['reviews'] = df['reviews'].str.replace('Not Verified', '')\n",
    "clean_df['reviews'] = df['reviews'].str.replace('|', '')\n",
    "clean_df['reviews'] = df['reviews'].str.replace(',', '')\n",
    "clean_df['reviews'] = df['reviews'].str.replace('.', '')\n",
    "clean_df['reviews'] = df['reviews'].str.replace('!', '')\n",
    "clean_df.head()"
   ]
  },
  {
   "cell_type": "code",
   "execution_count": 8,
   "metadata": {},
   "outputs": [],
   "source": [
    "clean_df.to_pickle('C:/Users/lavat/Documents/TheForage/BristishAirways/data/BA_reviews_pickle.pkl')"
   ]
  },
  {
   "cell_type": "code",
   "execution_count": 9,
   "metadata": {},
   "outputs": [],
   "source": [
    "clean_df_pickle = pd.read_pickle('C:/Users/lavat/Documents/TheForage/BristishAirways/data/BA_reviews_pickle.pkl')"
   ]
  },
  {
   "cell_type": "code",
   "execution_count": 10,
   "metadata": {},
   "outputs": [
    {
     "data": {
      "text/html": [
       "<div>\n",
       "<style scoped>\n",
       "    .dataframe tbody tr th:only-of-type {\n",
       "        vertical-align: middle;\n",
       "    }\n",
       "\n",
       "    .dataframe tbody tr th {\n",
       "        vertical-align: top;\n",
       "    }\n",
       "\n",
       "    .dataframe thead th {\n",
       "        text-align: right;\n",
       "    }\n",
       "</style>\n",
       "<table border=\"1\" class=\"dataframe\">\n",
       "  <thead>\n",
       "    <tr style=\"text-align: right;\">\n",
       "      <th></th>\n",
       "      <th>reviews</th>\n",
       "    </tr>\n",
       "  </thead>\n",
       "  <tbody>\n",
       "    <tr>\n",
       "      <th>0</th>\n",
       "      <td>Very competent check in staff saw had a pro...</td>\n",
       "    </tr>\n",
       "    <tr>\n",
       "      <th>1</th>\n",
       "      <td>Check in was so slow no self check in and b...</td>\n",
       "    </tr>\n",
       "    <tr>\n",
       "      <th>2</th>\n",
       "      <td>My review relates to the appalling experien...</td>\n",
       "    </tr>\n",
       "    <tr>\n",
       "      <th>3</th>\n",
       "      <td>This was my first time flying with BA &amp; I wa...</td>\n",
       "    </tr>\n",
       "    <tr>\n",
       "      <th>4</th>\n",
       "      <td>Lots of cancellations and delays and no one...</td>\n",
       "    </tr>\n",
       "  </tbody>\n",
       "</table>\n",
       "</div>"
      ],
      "text/plain": [
       "                                             reviews\n",
       "0     Very competent check in staff saw had a pro...\n",
       "1     Check in was so slow no self check in and b...\n",
       "2     My review relates to the appalling experien...\n",
       "3    This was my first time flying with BA & I wa...\n",
       "4     Lots of cancellations and delays and no one..."
      ]
     },
     "execution_count": 10,
     "metadata": {},
     "output_type": "execute_result"
    }
   ],
   "source": [
    "clean_df_pickle.head()"
   ]
  },
  {
   "attachments": {},
   "cell_type": "markdown",
   "metadata": {},
   "source": [
    "#### Clean data of stop words and punctuation then lemmatize the words"
   ]
  },
  {
   "cell_type": "code",
   "execution_count": 11,
   "metadata": {},
   "outputs": [],
   "source": [
    "# clean pickle file by excluding stop words\n",
    "stop = set(stopwords.words('english'))\n",
    "exclude = set(string.punctuation)\n",
    "lemma = WordNetLemmatizer()\n",
    "\n",
    "def clean(text):\n",
    "    stop_free = ' '.join([word for word in text.lower().split() if word not in stop])\n",
    "    punc_free = ''.join(ch for ch in stop_free if ch not in exclude)\n",
    "    normalized = ' '.join([lemma.lemmatize(word) for word in punc_free.split()])\n",
    "    return normalized.split()"
   ]
  },
  {
   "cell_type": "code",
   "execution_count": 12,
   "metadata": {},
   "outputs": [],
   "source": [
    "clean_df_pickle['text_clean']=clean_df_pickle['reviews'].apply(clean)"
   ]
  },
  {
   "cell_type": "code",
   "execution_count": 13,
   "metadata": {},
   "outputs": [
    {
     "data": {
      "text/html": [
       "<div>\n",
       "<style scoped>\n",
       "    .dataframe tbody tr th:only-of-type {\n",
       "        vertical-align: middle;\n",
       "    }\n",
       "\n",
       "    .dataframe tbody tr th {\n",
       "        vertical-align: top;\n",
       "    }\n",
       "\n",
       "    .dataframe thead th {\n",
       "        text-align: right;\n",
       "    }\n",
       "</style>\n",
       "<table border=\"1\" class=\"dataframe\">\n",
       "  <thead>\n",
       "    <tr style=\"text-align: right;\">\n",
       "      <th></th>\n",
       "      <th>reviews</th>\n",
       "      <th>text_clean</th>\n",
       "    </tr>\n",
       "  </thead>\n",
       "  <tbody>\n",
       "    <tr>\n",
       "      <th>0</th>\n",
       "      <td>Very competent check in staff saw had a pro...</td>\n",
       "      <td>[competent, check, staff, saw, problem, left, ...</td>\n",
       "    </tr>\n",
       "    <tr>\n",
       "      <th>1</th>\n",
       "      <td>Check in was so slow no self check in and b...</td>\n",
       "      <td>[check, slow, self, check, bag, drop, boarding...</td>\n",
       "    </tr>\n",
       "    <tr>\n",
       "      <th>2</th>\n",
       "      <td>My review relates to the appalling experien...</td>\n",
       "      <td>[review, relates, appalling, experience, briti...</td>\n",
       "    </tr>\n",
       "    <tr>\n",
       "      <th>3</th>\n",
       "      <td>This was my first time flying with BA &amp; I wa...</td>\n",
       "      <td>[first, time, flying, ba, pleasantly, surprise...</td>\n",
       "    </tr>\n",
       "    <tr>\n",
       "      <th>4</th>\n",
       "      <td>Lots of cancellations and delays and no one...</td>\n",
       "      <td>[lot, cancellation, delay, one, apologized, ed...</td>\n",
       "    </tr>\n",
       "    <tr>\n",
       "      <th>...</th>\n",
       "      <td>...</td>\n",
       "      <td>...</td>\n",
       "    </tr>\n",
       "    <tr>\n",
       "      <th>295</th>\n",
       "      <td>No refund for flights cancelled 14 months a...</td>\n",
       "      <td>[refund, flight, cancelled, 14, month, ago, pr...</td>\n",
       "    </tr>\n",
       "    <tr>\n",
       "      <th>296</th>\n",
       "      <td>Stranded in the lounge because I wasn't all...</td>\n",
       "      <td>[stranded, lounge, allocated, seat, flight, bo...</td>\n",
       "    </tr>\n",
       "    <tr>\n",
       "      <th>297</th>\n",
       "      <td>I think British Airways needs to be much cl...</td>\n",
       "      <td>[think, british, airway, need, much, clearer, ...</td>\n",
       "    </tr>\n",
       "    <tr>\n",
       "      <th>298</th>\n",
       "      <td>My flight from Boston to Heathrow arrived i...</td>\n",
       "      <td>[flight, boston, heathrow, arrived, time, pass...</td>\n",
       "    </tr>\n",
       "    <tr>\n",
       "      <th>299</th>\n",
       "      <td>Year after year the British Airways (BA) ser...</td>\n",
       "      <td>[year, year, british, airway, ba, service, rou...</td>\n",
       "    </tr>\n",
       "  </tbody>\n",
       "</table>\n",
       "<p>300 rows × 2 columns</p>\n",
       "</div>"
      ],
      "text/plain": [
       "                                               reviews  \\\n",
       "0       Very competent check in staff saw had a pro...   \n",
       "1       Check in was so slow no self check in and b...   \n",
       "2       My review relates to the appalling experien...   \n",
       "3      This was my first time flying with BA & I wa...   \n",
       "4       Lots of cancellations and delays and no one...   \n",
       "..                                                 ...   \n",
       "295     No refund for flights cancelled 14 months a...   \n",
       "296     Stranded in the lounge because I wasn't all...   \n",
       "297     I think British Airways needs to be much cl...   \n",
       "298     My flight from Boston to Heathrow arrived i...   \n",
       "299    Year after year the British Airways (BA) ser...   \n",
       "\n",
       "                                            text_clean  \n",
       "0    [competent, check, staff, saw, problem, left, ...  \n",
       "1    [check, slow, self, check, bag, drop, boarding...  \n",
       "2    [review, relates, appalling, experience, briti...  \n",
       "3    [first, time, flying, ba, pleasantly, surprise...  \n",
       "4    [lot, cancellation, delay, one, apologized, ed...  \n",
       "..                                                 ...  \n",
       "295  [refund, flight, cancelled, 14, month, ago, pr...  \n",
       "296  [stranded, lounge, allocated, seat, flight, bo...  \n",
       "297  [think, british, airway, need, much, clearer, ...  \n",
       "298  [flight, boston, heathrow, arrived, time, pass...  \n",
       "299  [year, year, british, airway, ba, service, rou...  \n",
       "\n",
       "[300 rows x 2 columns]"
      ]
     },
     "execution_count": 13,
     "metadata": {},
     "output_type": "execute_result"
    }
   ],
   "source": [
    "clean_df_pickle"
   ]
  },
  {
   "attachments": {},
   "cell_type": "markdown",
   "metadata": {},
   "source": [
    "#### Use corpora to save unique words into dictionary"
   ]
  },
  {
   "cell_type": "code",
   "execution_count": 14,
   "metadata": {},
   "outputs": [
    {
     "name": "stdout",
     "output_type": "stream",
     "text": [
      "19690\n"
     ]
    }
   ],
   "source": [
    "dictionary = corpora.Dictionary(clean_df_pickle['text_clean'])\n",
    "# check number of unique words\n",
    "print(dictionary.num_nnz)"
   ]
  },
  {
   "attachments": {},
   "cell_type": "markdown",
   "metadata": {},
   "source": [
    "#### creating a matrix of document terms which stores the number of occurence and frequency of each words"
   ]
  },
  {
   "cell_type": "code",
   "execution_count": 16,
   "metadata": {},
   "outputs": [
    {
     "name": "stdout",
     "output_type": "stream",
     "text": [
      "300\n"
     ]
    }
   ],
   "source": [
    "doc_term_matrix = [dictionary.doc2bow(doc) for doc in clean_df_pickle['text_clean']]\n",
    "print(len(doc_term_matrix))"
   ]
  },
  {
   "attachments": {},
   "cell_type": "markdown",
   "metadata": {},
   "source": [
    "#### Instantiate LDA model"
   ]
  },
  {
   "cell_type": "code",
   "execution_count": 17,
   "metadata": {},
   "outputs": [],
   "source": [
    "lda = gensim.models.ldamodel.LdaModel"
   ]
  },
  {
   "cell_type": "code",
   "execution_count": 33,
   "metadata": {},
   "outputs": [
    {
     "name": "stdout",
     "output_type": "stream",
     "text": [
      "CPU times: total: 12.4 s\n",
      "Wall time: 12.8 s\n"
     ]
    }
   ],
   "source": [
    "# specify how many models you believe there is to model around\n",
    "num_topics = 7\n",
    "\n",
    "%time ldamodel = lda(doc_term_matrix, num_topics, id2word=dictionary, passes=50, minimum_probability=0)"
   ]
  },
  {
   "attachments": {},
   "cell_type": "markdown",
   "metadata": {},
   "source": [
    "#### Print the topics defined by LDA model"
   ]
  },
  {
   "cell_type": "code",
   "execution_count": 34,
   "metadata": {},
   "outputs": [
    {
     "data": {
      "text/plain": [
       "[(0,\n",
       "  '0.014*\"ba\" + 0.012*\"flight\" + 0.010*\"airline\" + 0.008*\"seat\" + 0.008*\"time\" + 0.007*\"british\" + 0.006*\"airway\" + 0.006*\"staff\" + 0.005*\"food\" + 0.005*\"hour\"'),\n",
       " (1,\n",
       "  '0.010*\"bag\" + 0.008*\"flight\" + 0.008*\"ba\" + 0.006*\"staff\" + 0.005*\"given\" + 0.005*\"back\" + 0.004*\"told\" + 0.004*\"customer\" + 0.004*\"come\" + 0.004*\"service\"'),\n",
       " (2,\n",
       "  '0.027*\"flight\" + 0.020*\"ba\" + 0.009*\"day\" + 0.008*\"u\" + 0.008*\"staff\" + 0.008*\"get\" + 0.007*\"cancelled\" + 0.007*\"told\" + 0.006*\"customer\" + 0.006*\"one\"'),\n",
       " (3,\n",
       "  '0.025*\"flight\" + 0.010*\"ba\" + 0.010*\"service\" + 0.007*\"one\" + 0.006*\"hour\" + 0.006*\"customer\" + 0.006*\"cancelled\" + 0.005*\"airline\" + 0.005*\"got\" + 0.005*\"airway\"'),\n",
       " (4,\n",
       "  '0.027*\"flight\" + 0.014*\"hour\" + 0.009*\"customer\" + 0.009*\"ba\" + 0.009*\"u\" + 0.008*\"service\" + 0.007*\"told\" + 0.007*\"day\" + 0.007*\"get\" + 0.007*\"would\"'),\n",
       " (5,\n",
       "  '0.022*\"flight\" + 0.016*\"seat\" + 0.016*\"ba\" + 0.013*\"crew\" + 0.013*\"good\" + 0.013*\"food\" + 0.012*\"service\" + 0.011*\"cabin\" + 0.011*\"class\" + 0.010*\"time\"'),\n",
       " (6,\n",
       "  '0.027*\"flight\" + 0.014*\"ba\" + 0.009*\"u\" + 0.007*\"time\" + 0.006*\"call\" + 0.006*\"would\" + 0.006*\"could\" + 0.005*\"told\" + 0.005*\"service\" + 0.005*\"staff\"')]"
      ]
     },
     "execution_count": 34,
     "metadata": {},
     "output_type": "execute_result"
    }
   ],
   "source": [
    "ldamodel.print_topics(num_topics=num_topics)"
   ]
  },
  {
   "attachments": {},
   "cell_type": "markdown",
   "metadata": {},
   "source": [
    "##### concern keywords (What about these?): Flight + seat + hour + food + crew + cabin + business/economy class + staff + cancellation + Heathrow + Booking +  service + time\n",
    "##### possible positive feedback to maintain keyword : good"
   ]
  },
  {
   "attachments": {},
   "cell_type": "markdown",
   "metadata": {},
   "source": [
    "#### Visualize LDA model results"
   ]
  },
  {
   "cell_type": "code",
   "execution_count": 35,
   "metadata": {},
   "outputs": [
    {
     "data": {
      "text/html": [
       "\n",
       "<link rel=\"stylesheet\" type=\"text/css\" href=\"https://cdn.jsdelivr.net/gh/bmabey/pyLDAvis@3.4.0/pyLDAvis/js/ldavis.v1.0.0.css\">\n",
       "\n",
       "\n",
       "<div id=\"ldavis_el745625985529485128436676896\" style=\"background-color:white;\"></div>\n",
       "<script type=\"text/javascript\">\n",
       "\n",
       "var ldavis_el745625985529485128436676896_data = {\"mdsDat\": {\"x\": [0.024734662924968842, -0.12712478212366604, 0.10543649254017311, 0.13387582786794247, 0.04341206055810172, -0.16356111096405387, -0.016773150803466214], \"y\": [-0.13713244873474567, 0.07011336826322595, 0.09429998039990155, -0.04129129266300582, 0.0026857767407287973, -0.12670605709325436, 0.13803067308714959], \"topics\": [1, 2, 3, 4, 5, 6, 7], \"cluster\": [1, 1, 1, 1, 1, 1, 1], \"Freq\": [7.576091506359739, 2.383997761165951, 9.33717970306623, 11.135111274869544, 21.511154558167338, 38.06033510973299, 9.996130086638212]}, \"tinfo\": {\"Term\": [\"flight\", \"ba\", \"bag\", \"crew\", \"customer\", \"staff\", \"u\", \"told\", \"cabin\", \"business\", \"class\", \"food\", \"airline\", \"day\", \"good\", \"boarding\", \"seat\", \"get\", \"cancelled\", \"british\", \"airway\", \"back\", \"passenger\", \"voucher\", \"economy\", \"given\", \"hour\", \"refund\", \"never\", \"baggage\", \"alaska\", \"america\", \"tier\", \"delta\", \"select\", \"upstairs\", \"hang\", \"\\u00a350\", \"driven\", \"despair\", \"submission\", \"\\u00a3150\", \"clicking\", \"ashamed\", \"edreams\", \"referred\", \"confidence\", \"flt\", \"businessfirst\", \"unhelpful\", \"scotland\", \"dry\", \"soggy\", \"mind\", \"warning\", \"cart\", \"diversity\", \"patience\", \"we\\u2019ve\", \"horrendous\", \"stowage\", \"placed\", \"processing\", \"broken\", \"can\\u2019t\", \"allergy\", \"rude\", \"14\", \"actually\", \"airline\", \"experienced\", \"british\", \"wasn\\u2019t\", \"ba\", \"airway\", \"holiday\", \"side\", \"ever\", \"time\", \"also\", \"it\\u2019s\", \"different\", \"upgrade\", \"online\", \"seat\", \"go\", \"flight\", \"staff\", \"food\", \"experience\", \"check\", \"booked\", \"another\", \"paid\", \"hour\", \"customer\", \"london\", \"service\", \"refund\", \"cancelled\", \"say\", \"plane\", \"never\", \"59\", \"your\", \"supply\", \"fastidiously\", \"bloom\", \"eg\", \"locate\", \"stage\", \"ineptitude\", \"file\", \"united\", \"carriage\", \"fiction\", \"escorted\", \"needle\", \"gigantic\", \"detroit\", \"frenzy\", \"insecurity\", \"bangalore\", \"shoddy\", \"rudeness\", \"unfortunate\", \"dissuaded\", \"arduous\", \"hardearned\", \"misconception\", \"corporation\", \"freed\", \"trump\", \"slip\", \"continue\", \"60\", \"i\", \"johannesburg\", \"bag\", \"come\", \"turn\", \"extra\", \"given\", \"gatwick\", \"32\", \"anyway\", \"procedure\", \"appears\", \"announcement\", \"staff\", \"spend\", \"seem\", \"ground\", \"journey\", \"absolute\", \"ba\", \"back\", \"thought\", \"told\", \"flight\", \"customer\", \"experience\", \"never\", \"baggage\", \"waited\", \"would\", \"help\", \"get\", \"service\", \"class\", \"passenger\", \"fly\", \"time\", \"business\", \"london\", \"airway\", \"airline\", \"british\", \"madeira\", \"conference\", \"queuing\", \"1000\", \"overdue\", \"chased\", \"mykonos\", \"count\", \"lodging\", \"vacation\", \"customer\\u2019s\", \"vaccination\", \"lhrzrh\", \"actual\", \"zrhlhr\", \"gvalhr\", \"urgent\", \"action\", \"misguided\", \"industrial\", \"delhi\", \"sweden\", \"gothenburg\", \"cocktail\", \"they\\u2019ve\", \"snug\", \"accommodating\", \"avoided\", \"dime\", \"major\", \"york\", \"covid19\", \"record\", \"desk\", \"100\", \"travel\", \"day\", \"cancelled\", \"cancel\", \"voucher\", \"ba\", \"manchester\", \"spoke\", \"2\", \"flight\", \"get\", \"u\", \"staff\", \"told\", \"queue\", \"whole\", \"absolute\", \"booked\", \"since\", \"customer\", \"called\", \"heathrow\", \"pay\", \"airline\", \"one\", \"phone\", \"new\", \"could\", \"ticket\", \"another\", \"hour\", \"offered\", \"airport\", \"service\", \"would\", \"check\", \"london\", \"plate\", \"amex\", \"lca\", \"bother\", \"denver\", \"scone\", \"escalator\", \"literally\", \"they\\u2019re\", \"mum\", \"mia\", \"voice\", \"attempted\", \"qantas\", \"\\u20ac500\", \"a17\", \"seeking\", \"remind\", \"ha\", \"crisis\", \"road\", \"unusable\", \"australia\", \"visible\", \"wednesday\", \"smoothly\", \"earn\", \"prague\", \"drawback\", \"personable\", \"miami\", \"mention\", \"sister\", \"company\", \"warsaw\", \"sat\", \"considering\", \"glasgow\", \"planning\", \"i\\u2019ve\", \"home\", \"feeling\", \"office\", \"personal\", \"march\", \"helped\", \"aware\", \"last\", \"flight\", \"gold\", \"recent\", \"cancelled\", \"voucher\", \"got\", \"use\", \"service\", \"customer\", \"one\", \"never\", \"cost\", \"phone\", \"booked\", \"heathrow\", \"ba\", \"airway\", \"plane\", \"british\", \"luggage\", \"airline\", \"airport\", \"passenger\", \"day\", \"hour\", \"back\", \"staff\", \"u\", \"told\", \"business\", \"time\", \"would\", \"get\", \"another\", \"suitcase\", \"amsterdam\", \"clothes\", \"canceled\", \"zero\", \"refunded\", \"emailed\", \"non\", \"refuse\", \"according\", \"nowhere\", \"receive\", \"per\", \"dm\", \"roughly\", \"netherlands\", \"confirmation\", \"success\", \"replied\", \"respond\", \"talk\", \"relation\", \"refundable\", \"aside\", \"cattle\", \"wt\", \"stranger\", \"purposely\", \"traveler\", \"internet\", \"calling\", \"48\", \"refund\", \"4\", \"waiting\", \"twitter\", \"\\u2013\", \"booking\", \"pick\", \"dublin\", \"tell\", \"email\", \"guarantee\", \"customer\", \"information\", \"unable\", \"hour\", \"told\", \"contact\", \"different\", \"u\", \"day\", \"line\", \"connecting\", \"flight\", \"put\", \"still\", \"take\", \"get\", \"london\", \"desk\", \"bag\", \"would\", \"call\", \"british\", \"paid\", \"airway\", \"3\", \"service\", \"back\", \"ba\", \"ticket\", \"airport\", \"time\", \"booked\", \"seat\", \"one\", \"could\", \"airline\", \"check\", \"screen\", \"wine\", \"space\", \"efficient\", \"suite\", \"pleasant\", \"beverage\", \"seated\", \"excellent\", \"glass\", \"attentive\", \"ife\", \"comfortable\", \"movie\", \"storage\", \"quality\", \"limited\", \"served\", \"outbound\", \"quick\", \"dinner\", \"reasonable\", \"smooth\", \"champagne\", \"leg\", \"777\", \"breakfast\", \"schedule\", \"galley\", \"quite\", \"crew\", \"cabin\", \"snack\", \"good\", \"club\", \"product\", \"boarding\", \"friendly\", \"lounge\", \"class\", \"economy\", \"food\", \"drink\", \"business\", \"premium\", \"choice\", \"row\", \"seat\", \"meal\", \"well\", \"overall\", \"aircraft\", \"great\", \"service\", \"ba\", \"flight\", \"time\", \"passenger\", \"first\", \"new\", \"check\", \"one\", \"staff\", \"back\", \"hour\", \"madrid\", \"thru\", \"insurance\", \"contrast\", \"vague\", \"card\", \"bank\", \"mauritius\", \"althea\", \"\\u201cthere\", \"desperate\", \"spoon\", \"italy\", \"stirrer\", \"redemption\", \"ny\", \"payment\", \"began\", \"aire\", \"buenos\", \"11f\", \"calm\", \"protocol\", \"islamabad\", \"pier\", \"sink\", \"aboard\", \"wondered\", \"keeping\", \"assured\", \"iberia\", \"pm\", \"previously\", \"call\", \"45\", \"lovely\", \"repeatedly\", \"gave\", \"flight\", \"bus\", \"weve\", \"detail\", \"u\", \"matter\", \"number\", \"could\", \"beyond\", \"ba\", \"hotel\", \"paris\", \"price\", \"luggage\", \"area\", \"uk\", \"got\", \"told\", \"would\", \"asked\", \"time\", \"went\", \"airway\", \"staff\", \"day\", \"booking\", \"airport\", \"said\", \"british\", \"minute\", \"service\", \"get\", \"heathrow\", \"hour\", \"experience\", \"london\", \"2\", \"cancelled\", \"another\"], \"Freq\": [564.0, 328.0, 64.0, 135.0, 95.0, 114.0, 118.0, 83.0, 113.0, 109.0, 122.0, 143.0, 109.0, 91.0, 134.0, 73.0, 208.0, 102.0, 63.0, 81.0, 80.0, 96.0, 91.0, 49.0, 78.0, 38.0, 166.0, 46.0, 47.0, 40.0, 3.8703048439898957, 2.3650836816575387, 2.3650806769867576, 2.3650806769867576, 2.3647147510094593, 2.363691231369733, 6.089638384625243, 1.6124604379502105, 1.612458828305149, 1.612458828305149, 1.6124580771374537, 1.6124604379502105, 1.6124580771374537, 1.6124593648535028, 1.6124573259697583, 1.6124580771374537, 1.612457969827783, 1.6124580771374537, 1.6123162137527065, 1.6123156772043528, 1.6122996880634093, 1.6122537595243231, 1.6122433504862592, 1.6120138151004997, 1.6120274434286863, 1.6118680885676049, 1.611910797816568, 1.611759920419477, 1.6116271783567446, 1.6110859083774216, 2.3649654264003592, 2.363793819414981, 2.3651450627892148, 4.604855422186192, 4.561912667379389, 2.3649843129024135, 3.8389403734196152, 2.9596590960733646, 4.6224782455573905, 17.96103941607308, 4.324709361785781, 13.217371637698795, 3.1174094629575153, 25.350762791731505, 11.688250894733036, 6.128366444803203, 2.8751752653792493, 6.005878035731404, 14.642329029449417, 7.158460304199507, 4.74433009366223, 5.2277245336337765, 3.5841273362346424, 6.1284394153793205, 15.011223621479363, 6.701892852679745, 22.385109806688064, 10.434889392826944, 10.025307266030927, 7.289739092261436, 7.666511072602669, 6.472305099800766, 6.435198274128677, 5.046863097576983, 8.888975115625636, 7.209675776144685, 6.41035136372179, 6.831454686009484, 5.227641261329265, 5.416919638721938, 4.820936750664399, 4.886427413491687, 4.8382397912167265, 1.0809554565431292, 1.0809554565431292, 1.080744476918685, 0.5764532660640836, 0.5764532660640836, 0.5764532660640836, 0.5764532660640836, 0.5764531985289926, 0.5764531985289926, 0.5764531985289926, 0.5764531985289926, 0.5764531985289926, 0.5764531309939016, 0.5764530634588105, 0.5764530634588105, 0.5764530634588105, 0.5764530634588105, 0.5764530634588105, 0.5764530634588105, 0.5764530634588105, 0.5764530634588105, 0.5764530634588105, 0.5764530634588105, 0.5764530634588105, 0.5764529959237195, 0.5764529959237195, 0.5764529959237195, 0.5764529283886284, 0.5764529283886284, 0.5764529283886284, 1.0807928320438775, 2.089922423060778, 1.0809964503433975, 1.4852845348429526, 1.0813053558498664, 5.971464636938246, 2.4620833218611944, 1.0810645257151772, 2.0901951297584436, 2.8350636914564284, 1.0807664933583676, 1.080870902609133, 1.080898659531555, 0.9099235138064428, 0.9824200703219027, 1.195590330514819, 3.694759196925053, 1.0809888864131998, 0.9521430759772074, 1.596429870660018, 1.5494896056247627, 1.071828831873538, 4.486552760727715, 2.767458904191092, 1.4645828683127937, 2.5947711360920085, 4.928094484617937, 2.592729955500072, 2.2815674262881642, 2.053504935632419, 1.8537112833889566, 1.4404994496333285, 2.339414743598398, 1.5855646901414913, 2.090140561404874, 2.43166956895712, 2.0207945844220516, 1.8951740473293996, 1.5464647088965717, 1.8371426293609596, 1.7031767810670897, 1.5910024806027656, 1.5443739575478033, 1.574718284378277, 1.5442773823676, 2.4914839005767244, 2.491335511400093, 2.490956999970931, 2.4906914336013446, 1.6986221465051936, 1.6986216174885211, 1.6986220142510255, 1.6986220142510255, 1.6986198981843357, 1.6986189724051588, 1.6986208239635125, 1.698621220726017, 1.6985355200250747, 1.6985353877709064, 1.6985353877709064, 1.6985351232625703, 1.6984848666786843, 1.6984835441370032, 1.6984826183578263, 1.698482221595322, 1.6984818248328175, 1.6984641027742893, 1.6984639705201212, 1.6983725828899499, 1.6983724506357816, 1.6983487771396881, 1.6983199457310378, 1.6981871625462446, 1.6980767303158637, 1.6980701176074575, 4.0651185842285384, 2.4914981840268813, 2.4910350299301225, 10.335693921605653, 2.482178761816083, 10.565788665268835, 20.507191648406, 15.792380282467548, 7.438077044346907, 12.684686652432381, 44.420835918531964, 3.2844666672120857, 3.277830153055785, 13.52100487782754, 60.30685955826244, 17.7259034213596, 18.345140713234663, 17.935131631393357, 14.788711864865737, 9.99730311688511, 4.611483829469053, 3.2088738878309573, 10.782531028118543, 6.057344058182678, 14.352576765637181, 7.654815704079907, 11.151377322673937, 7.287050190586396, 13.996617317223475, 14.06955072979203, 8.100776758983164, 10.60879137254164, 10.587514321974371, 8.674315474622446, 8.828645508485943, 13.558178879402929, 8.009294434827334, 8.330858277229535, 11.764455802447952, 8.617576320431944, 8.293366336633984, 8.109474322095458, 3.3777894344620516, 3.377560424260715, 3.3769768583206705, 3.376147879244759, 2.5624650129447177, 2.5618887021487926, 2.561531465161171, 2.5586740424217695, 2.5563870948188927, 1.7469988006760053, 1.7469988006760053, 1.7469983275144325, 1.7469953308244701, 1.7469984852349567, 1.7469970657502378, 1.7469961194270918, 1.746963944440127, 1.7469319271736867, 1.7469319271736867, 1.7469317694531625, 1.746810482369948, 1.746746763278116, 1.746746763278116, 1.7466481879504057, 1.7466086000987973, 1.7466082846577486, 1.7464721718452465, 1.7463751737227795, 1.7463759623254012, 1.7463620829192597, 4.192762612371689, 3.3774941816404938, 4.1934237768097065, 8.626844566681033, 4.193433555482215, 5.682884991751075, 3.3654247762361806, 4.876762774226145, 2.561399610802826, 5.981928783831633, 8.644094144986648, 2.5613142839991596, 2.562346564830941, 3.7419330038445273, 3.376958878180896, 3.975250552700504, 2.561126281134151, 12.632595114377695, 68.45000097401828, 3.376747217237237, 3.7754397829166346, 15.376529735051735, 12.407734855477681, 14.00973250350246, 7.666460320477419, 28.26989239378195, 16.56270668389524, 18.04362165450492, 10.952567445024858, 7.783061842355073, 9.607362153257228, 11.570170735985256, 12.407283143895983, 28.281212942136715, 13.55027116611942, 11.29562346486252, 13.507178133578151, 10.81264410465464, 14.825863034619678, 11.349846519365155, 13.190099314980783, 13.156586857969799, 16.794095310738584, 12.848026209450786, 12.973482161564682, 12.999287762874495, 11.435481193494613, 11.794347118691746, 13.33204778688348, 10.985378361143594, 10.38880173960562, 9.689128889247863, 13.53707175536523, 8.167791561849755, 6.385084854249776, 6.356930942628747, 4.596867838521549, 4.596421468523878, 5.303885922443694, 9.066051920071047, 3.701074550519468, 3.692736724590273, 3.6195162011224626, 7.217969832143212, 4.289082775827037, 2.809038692422698, 2.8090347314602613, 2.8090347314602613, 2.8090280282930604, 2.8089137697612334, 2.8088765976522123, 2.808871417932103, 2.808869894485012, 2.8088634960072296, 2.8088129175638077, 2.8085414392921866, 2.808536259572077, 2.808192265218923, 2.8076794729280827, 2.807940591759485, 2.8071840479340806, 2.8054333025370717, 9.502367166941385, 5.488399130941771, 31.815781174728777, 26.019513496191905, 13.701491915490326, 4.597021706677743, 4.596401663711695, 27.947329757969946, 6.367337914396975, 5.490407034207745, 7.7200260866432515, 21.85968637004544, 4.552827420635283, 48.63612394403563, 13.744634718350557, 7.646731218957399, 71.97637663514821, 38.53817549629718, 14.06975904645631, 13.536112593076721, 46.52524052973832, 38.15249719321726, 19.70429758180968, 13.639323086599667, 140.57234848858855, 10.780113929885825, 23.764792301348116, 17.43025542157864, 36.161122718801536, 29.049735073283134, 14.287353603846636, 24.321589056722964, 34.190523187676746, 20.1465823037615, 27.300744687322943, 14.593137466442375, 26.333736036914264, 19.647860570254302, 44.264523047144245, 28.438281911312906, 46.85183833587051, 19.150340531812507, 21.162361979963507, 33.1850773577826, 19.712366976361434, 31.858649757112623, 24.120730479695833, 21.022265785472598, 21.984882033228427, 19.826343975166093, 25.65354104396712, 32.82020378723322, 18.990831883768774, 18.0845648341962, 21.560960008343034, 15.253597176803577, 14.305938322132288, 13.365966979061778, 31.192510675295775, 13.324845800248024, 13.293784156249876, 15.938583571626864, 29.227224750270047, 11.472515620712318, 12.352399302981802, 22.86106808877401, 11.430187944636117, 38.93146067767929, 10.52761046935497, 18.39680826646459, 23.59264533230597, 11.301506763424165, 9.574214553080912, 10.441975040337892, 35.72804763882599, 8.637120905446933, 21.553915099395, 11.20514116393711, 8.616117178975832, 20.70209352994928, 124.56695438629917, 104.44414127118155, 19.777692362899362, 119.41961225689253, 66.36987803010668, 22.156527597121595, 64.84182930065461, 36.02126852310384, 59.711656306553834, 102.79532637070845, 66.99986583211711, 117.04199969281831, 63.86259342603213, 86.67516873475613, 32.55037320823829, 34.51921501170152, 39.05342579861617, 146.95834462745967, 59.31501952287904, 43.72421983862525, 32.38346256014994, 43.47983675595593, 36.56497505886734, 108.34306601877775, 144.0095920009501, 202.57840752260068, 88.48874868050054, 56.878184008284826, 44.48420313834712, 42.46471863924736, 46.72843899343641, 49.28966771818559, 47.86535403307209, 41.32051501918794, 43.95679455845422, 4.924768207610808, 4.123080767474707, 3.3213097905911586, 3.3207547667776063, 2.5195243717614413, 9.560141335327156, 1.7177315903709318, 1.7177314487832243, 1.7177304576692713, 1.717730882432394, 1.7177304576692713, 1.717727201151998, 1.7177264932134604, 1.7177270595642904, 1.717730032906149, 1.7177264932134604, 1.7176295056337962, 1.71762469165174, 1.717518784046501, 1.717518784046501, 1.717518784046501, 1.717492307145191, 1.717430291729289, 1.7173328793865024, 1.7172533070948655, 1.717253165507158, 1.7172433959553377, 1.7172656252254215, 1.717210830782604, 1.7171400369288343, 6.235454111560365, 3.3213684079020798, 3.3026403186505013, 15.197826304429263, 4.122767009114801, 4.12064715795753, 2.5119845431595826, 7.816710726511678, 64.88346634479484, 6.825259794995808, 2.4182880281695054, 3.321445714790396, 20.897960514169284, 3.321766269360264, 8.934220592154364, 14.400022615110952, 3.8178541996494983, 35.23796353370369, 5.785329232418636, 2.950974115454211, 6.401838923846736, 11.12143691526964, 5.393118256466937, 4.608022913426484, 11.176036533401602, 13.05826387286492, 15.080909971753645, 8.021683286259854, 17.366691727945845, 5.96805326615499, 10.638329462832154, 11.576982338206788, 10.444062066475572, 7.864533956960829, 8.641004343208845, 7.234043895290344, 8.980485225118928, 7.753692303289458, 11.593704412817955, 8.999424563230153, 7.940778371119667, 9.781857491018046, 7.752648518709481, 7.926143865668452, 7.330435107530301, 7.330707522279605, 7.2740775364215375], \"Total\": [564.0, 328.0, 64.0, 135.0, 95.0, 114.0, 118.0, 83.0, 113.0, 109.0, 122.0, 143.0, 109.0, 91.0, 134.0, 73.0, 208.0, 102.0, 63.0, 81.0, 80.0, 96.0, 91.0, 49.0, 78.0, 38.0, 166.0, 46.0, 47.0, 40.0, 4.5494247485101305, 3.044199474597255, 3.0441957327408327, 3.044197715117483, 3.0439919610394712, 3.0435257273150196, 8.419388514774761, 2.2915756476364235, 2.2915733944914547, 2.2915734138701964, 2.2915723471788456, 2.291575716004763, 2.291572364238619, 2.2915745292364784, 2.291571705300078, 2.2915728935855824, 2.2915734773201057, 2.291574125307012, 2.291494563393336, 2.2915023748477, 2.2914846047754085, 2.2914674606955856, 2.2914618517996064, 2.2913275603485785, 2.291358194434736, 2.291254289465504, 2.2913409251774874, 2.2912194067301934, 2.291117412978433, 2.2909202478581303, 3.835993605362113, 3.8360455547385217, 3.8448181264625916, 9.773650283448848, 9.756334489785042, 3.9372261331855753, 8.451026096895225, 5.725014757127585, 12.184687723971127, 109.1069838781966, 11.63555369511012, 81.61618977966928, 7.190917507512925, 328.63875828365224, 80.81258062783445, 25.018868459657966, 6.631880104821, 28.557898730596044, 175.31710288385497, 43.624547307726665, 19.310652665978605, 23.497468032384802, 11.076912162423133, 32.94637699945397, 208.19624995312924, 39.85001125679691, 564.1042871795707, 114.49240662816996, 143.3712646956417, 66.42749614725807, 91.17396762059472, 56.77195643818756, 59.91994011115951, 29.079200630541095, 166.10472909748898, 95.35889002188472, 76.14243571361644, 213.49876592993644, 46.979711659020886, 63.5081021921781, 31.448676949011837, 56.89508032781423, 47.96393598025494, 1.7955159051855214, 1.795515946743101, 1.795447161216713, 1.2910133042744545, 1.2910133072996934, 1.2910133719332302, 1.29101339747296, 1.2910133319537995, 1.291013360519104, 1.2910133625353704, 1.2910133700406483, 1.2910133751923287, 1.2910133137070439, 1.2910134676428793, 1.2910134721250746, 1.2910134760013499, 1.2910134875398318, 1.2910135172229409, 1.291013526141057, 1.291013531519222, 1.291013538685348, 1.2910135411278039, 1.2910135458311645, 1.2910135554653759, 1.2910134806718014, 1.291013525343478, 1.2910135369486881, 1.2910134822296406, 1.2910135148477875, 1.291013520559449, 2.5964872060480197, 6.0435409785124214, 2.739136800100769, 5.930881026788722, 3.6313256230361945, 64.58255677921903, 17.436407061052563, 4.621824265494806, 18.791966024722516, 38.714097439364224, 4.9743632867199805, 5.186677826848633, 5.211843221679866, 3.6410422937275313, 4.562674063592872, 7.300632438153159, 114.49240662816996, 6.032137143703689, 4.596492776905148, 19.60107848219595, 18.28765411051125, 6.825852706185466, 328.63875828365224, 96.52569031185293, 16.822144437401573, 83.58849423437317, 564.1042871795707, 95.35889002188472, 66.42749614725807, 47.96393598025494, 40.95827919106412, 17.432665375922383, 110.74424012526045, 26.499359450517233, 102.39680877942097, 213.49876592993644, 122.47708221342029, 91.5860196792678, 39.49641352040424, 175.31710288385497, 109.34866257678297, 76.14243571361644, 80.81258062783445, 109.1069838781966, 81.61618977966928, 3.1648541832943824, 3.1647851384863794, 3.1645825602783897, 3.164558391016546, 2.3719888047515387, 2.3719888631623225, 2.3719896268184795, 2.371989651323588, 2.3719867046024894, 2.371985684795004, 2.371988446431772, 2.3719898396330295, 2.3719371047452205, 2.3719370042611754, 2.371937067298814, 2.3719368852083864, 2.3719262726919474, 2.371926124798526, 2.371926311399317, 2.371926264149516, 2.3719263729655213, 2.3719159797587532, 2.3719160796697154, 2.3718448365359732, 2.3718449810741964, 2.37184724840799, 2.371813783418928, 2.3718008894927207, 2.3716733998449486, 2.371709777640975, 6.539087464392702, 3.966199271180082, 3.9654840165144716, 27.96820449658503, 4.058928894547417, 33.280836260046016, 91.54519457221573, 63.5081021921781, 20.93102491098986, 49.00673740219582, 328.63875828365224, 6.355082039098209, 6.405212936645788, 55.399312834390386, 564.1042871795707, 102.39680877942097, 118.41235622921228, 114.49240662816996, 83.58849423437317, 44.46784857021617, 12.463806585259375, 6.825852706185466, 56.77195643818756, 21.199885185129567, 95.35889002188472, 32.005459684830626, 66.92197871162888, 30.451126691645, 109.1069838781966, 114.2291474666691, 39.20269556353944, 69.66886435873981, 72.42020250429466, 50.184169272754865, 59.91994011115951, 166.10472909748898, 49.69341612268022, 62.87497409191718, 213.49876592993644, 110.74424012526045, 91.17396762059472, 76.14243571361644, 4.047987613222859, 4.047943955710846, 4.047508816726168, 4.047493561572811, 3.2326028913863247, 3.232268194057015, 3.2320554240129358, 3.2320121335550707, 3.230269981069924, 2.417135646330569, 2.4171358930676323, 2.4171355290264476, 2.417132077790655, 2.4171366687441678, 2.4171353646710596, 2.4171343863082004, 2.4171150807129034, 2.417095772187244, 2.41709705156088, 2.417097097571789, 2.4170436312795096, 2.417012852579361, 2.417013342177089, 2.416929167605732, 2.4169049226710575, 2.4169049934004816, 2.416877884041711, 2.4167696806388617, 2.4167789908276602, 2.4167635353329078, 5.806828088037476, 4.940305585689941, 6.448750801129715, 15.745471503943364, 7.241408008453031, 10.696514843471721, 5.693794495250828, 9.286764468413802, 3.984445770082085, 12.18745208542708, 20.24681783253459, 4.024011866077601, 4.0339100792692495, 6.771177085227915, 5.936740829628681, 7.462617762792794, 4.1251099263908095, 43.58621069070752, 564.1042871795707, 6.384947612659042, 7.545111743229093, 63.5081021921781, 49.00673740219582, 61.43597659496453, 23.87699764414808, 213.49876592993644, 95.35889002188472, 114.2291474666691, 47.96393598025494, 26.03477132468783, 39.20269556353944, 56.77195643818756, 66.92197871162888, 328.63875828365224, 80.81258062783445, 56.89508032781423, 81.61618977966928, 54.715086432985885, 109.1069838781966, 62.87497409191718, 91.5860196792678, 91.54519457221573, 166.10472909748898, 96.52569031185293, 114.49240662816996, 118.41235622921228, 83.58849423437317, 109.34866257678297, 175.31710288385497, 110.74424012526045, 102.39680877942097, 59.91994011115951, 14.196073256995891, 8.831092202190762, 7.044019972621221, 7.040981430784358, 5.255869575742682, 5.255781042616617, 6.12833393549843, 10.54060657334247, 4.361127116851592, 4.360191185855085, 4.353577862796594, 8.745727880872609, 5.220662544311197, 3.4679539356242897, 3.4679540971800584, 3.46795472333127, 3.46794764038369, 3.4678760254418295, 3.467854577595469, 3.4678525322659186, 3.4678520490201796, 3.4678514951157013, 3.4678116791287628, 3.4676437532078768, 3.467638449439242, 3.4674304383790306, 3.467112018971837, 3.4674885373748165, 3.4672855469008055, 3.4662621897975283, 12.176077975735693, 6.951079805539142, 46.979711659020886, 38.74844020487211, 20.494843925337705, 6.008241668832172, 6.055788863825644, 47.137283684284405, 8.78116945967371, 7.446527251964556, 11.164016231531216, 37.50601528745647, 6.0669296041287435, 95.35889002188472, 22.60330413758024, 11.327785693448568, 166.10472909748898, 83.58849423437317, 24.580200648884034, 23.497468032384802, 118.41235622921228, 91.54519457221573, 39.12740237061391, 24.493702356081556, 564.1042871795707, 18.019202566949378, 55.651150562170585, 36.07181982796105, 102.39680877942097, 76.14243571361644, 27.96820449658503, 64.58255677921903, 110.74424012526045, 48.703349471933244, 81.61618977966928, 29.079200630541095, 80.81258062783445, 49.061438480999406, 213.49876592993644, 96.52569031185293, 328.63875828365224, 50.184169272754865, 62.87497409191718, 175.31710288385497, 56.77195643818756, 208.19624995312924, 114.2291474666691, 72.42020250429466, 109.1069838781966, 91.17396762059472, 26.306139734569385, 33.80082343917217, 19.669087911135172, 18.743121182008025, 22.4616732846118, 15.907985365117336, 14.961100690987466, 14.018212554064835, 32.71565950389611, 14.015513138969476, 13.984886629801633, 16.800236680138994, 30.85716746290802, 12.127343236657033, 13.068373756961035, 24.24065823712117, 12.120331119164268, 41.28896323735651, 11.18223187951692, 19.563253522321542, 25.17929526785, 12.064166818484678, 10.235670927781326, 11.168137635611181, 38.24916355920149, 9.291428046289706, 23.197092835827554, 12.072465541296612, 9.288533368160353, 22.346336757788357, 135.44948287365327, 113.87255187335205, 21.37313448689017, 134.348372352743, 73.7794475287755, 24.08874426371998, 73.27241624136643, 40.15317307631966, 68.51403112664943, 122.47708221342029, 78.22685868927087, 143.3712646956417, 75.3840456943819, 109.34866257678297, 37.05195094826649, 39.629492240518324, 45.731699434323986, 208.19624995312924, 75.85294605334055, 53.624234827876954, 37.962187527900625, 54.939133232553125, 45.558287038150034, 213.49876592993644, 328.63875828365224, 564.1042871795707, 175.31710288385497, 91.5860196792678, 69.89189746458962, 69.66886435873981, 91.17396762059472, 114.2291474666691, 114.49240662816996, 96.52569031185293, 166.10472909748898, 5.596903175773768, 4.7951813682004545, 3.9934004120718845, 3.9930775502960216, 3.1916155323495268, 13.119807619589098, 2.3898218137130893, 2.3898217036225606, 2.389822589446502, 2.38982344169715, 2.3898232047168895, 2.389818886943572, 2.3898179737202643, 2.3898189964414946, 2.3898233209151716, 2.3898186180827468, 2.3897616525851504, 2.38976090935825, 2.389698749212469, 2.389698967418575, 2.3896990148595587, 2.3896833927907597, 2.3896546067146858, 2.38958635606716, 2.3895444323890493, 2.3895443680011486, 2.389541180373289, 2.389595994126098, 2.389520464083954, 2.389565828355509, 9.142101381813985, 4.886296057303413, 5.732838648674193, 48.703349471933244, 7.980456102490643, 8.110045695825931, 4.136627783856422, 22.110829065831147, 564.1042871795707, 19.04681837633227, 4.008063812963513, 6.645116998839868, 118.41235622921228, 6.725513372640346, 32.70377231096644, 72.42020250429466, 8.535845003175176, 328.63875828365224, 17.170985972894766, 5.770646745744601, 21.07628867734894, 54.715086432985885, 16.244256650892186, 12.62859558499844, 61.43597659496453, 83.58849423437317, 110.74424012526045, 35.989514905370314, 175.31710288385497, 22.12675459863686, 80.81258062783445, 114.49240662816996, 91.54519457221573, 47.137283684284405, 62.87497409191718, 41.37838369858645, 81.61618977966928, 53.51900648371017, 213.49876592993644, 102.39680877942097, 66.92197871162888, 166.10472909748898, 66.42749614725807, 76.14243571361644, 55.399312834390386, 63.5081021921781, 59.91994011115951], \"Category\": [\"Default\", \"Default\", \"Default\", \"Default\", \"Default\", \"Default\", \"Default\", \"Default\", \"Default\", \"Default\", \"Default\", \"Default\", \"Default\", \"Default\", \"Default\", \"Default\", \"Default\", \"Default\", \"Default\", \"Default\", \"Default\", \"Default\", \"Default\", \"Default\", \"Default\", \"Default\", \"Default\", \"Default\", \"Default\", \"Default\", \"Topic1\", \"Topic1\", \"Topic1\", \"Topic1\", \"Topic1\", \"Topic1\", \"Topic1\", \"Topic1\", \"Topic1\", \"Topic1\", \"Topic1\", \"Topic1\", \"Topic1\", \"Topic1\", \"Topic1\", \"Topic1\", \"Topic1\", \"Topic1\", \"Topic1\", \"Topic1\", \"Topic1\", \"Topic1\", \"Topic1\", \"Topic1\", \"Topic1\", \"Topic1\", \"Topic1\", \"Topic1\", \"Topic1\", \"Topic1\", \"Topic1\", \"Topic1\", \"Topic1\", \"Topic1\", \"Topic1\", \"Topic1\", \"Topic1\", \"Topic1\", \"Topic1\", \"Topic1\", \"Topic1\", \"Topic1\", \"Topic1\", \"Topic1\", \"Topic1\", \"Topic1\", \"Topic1\", \"Topic1\", \"Topic1\", \"Topic1\", \"Topic1\", \"Topic1\", \"Topic1\", \"Topic1\", \"Topic1\", \"Topic1\", \"Topic1\", \"Topic1\", \"Topic1\", \"Topic1\", \"Topic1\", \"Topic1\", \"Topic1\", \"Topic1\", \"Topic1\", \"Topic1\", \"Topic1\", \"Topic1\", \"Topic1\", \"Topic1\", \"Topic1\", \"Topic1\", \"Topic1\", \"Topic2\", \"Topic2\", \"Topic2\", \"Topic2\", \"Topic2\", \"Topic2\", \"Topic2\", \"Topic2\", \"Topic2\", \"Topic2\", \"Topic2\", \"Topic2\", \"Topic2\", \"Topic2\", \"Topic2\", \"Topic2\", \"Topic2\", \"Topic2\", \"Topic2\", \"Topic2\", \"Topic2\", \"Topic2\", \"Topic2\", \"Topic2\", \"Topic2\", \"Topic2\", \"Topic2\", \"Topic2\", \"Topic2\", \"Topic2\", \"Topic2\", \"Topic2\", \"Topic2\", \"Topic2\", \"Topic2\", \"Topic2\", \"Topic2\", \"Topic2\", \"Topic2\", \"Topic2\", \"Topic2\", \"Topic2\", \"Topic2\", \"Topic2\", \"Topic2\", \"Topic2\", \"Topic2\", \"Topic2\", \"Topic2\", \"Topic2\", \"Topic2\", \"Topic2\", \"Topic2\", \"Topic2\", \"Topic2\", \"Topic2\", \"Topic2\", \"Topic2\", \"Topic2\", \"Topic2\", \"Topic2\", \"Topic2\", \"Topic2\", \"Topic2\", \"Topic2\", \"Topic2\", \"Topic2\", \"Topic2\", \"Topic2\", \"Topic2\", \"Topic2\", \"Topic2\", \"Topic2\", \"Topic2\", \"Topic2\", \"Topic3\", \"Topic3\", \"Topic3\", \"Topic3\", \"Topic3\", \"Topic3\", \"Topic3\", \"Topic3\", \"Topic3\", \"Topic3\", \"Topic3\", \"Topic3\", \"Topic3\", \"Topic3\", \"Topic3\", \"Topic3\", \"Topic3\", \"Topic3\", \"Topic3\", \"Topic3\", \"Topic3\", \"Topic3\", \"Topic3\", \"Topic3\", \"Topic3\", \"Topic3\", \"Topic3\", \"Topic3\", \"Topic3\", \"Topic3\", \"Topic3\", \"Topic3\", \"Topic3\", \"Topic3\", \"Topic3\", \"Topic3\", \"Topic3\", \"Topic3\", \"Topic3\", \"Topic3\", \"Topic3\", \"Topic3\", \"Topic3\", \"Topic3\", \"Topic3\", \"Topic3\", \"Topic3\", \"Topic3\", \"Topic3\", \"Topic3\", \"Topic3\", \"Topic3\", \"Topic3\", \"Topic3\", \"Topic3\", \"Topic3\", \"Topic3\", \"Topic3\", \"Topic3\", \"Topic3\", \"Topic3\", \"Topic3\", \"Topic3\", \"Topic3\", \"Topic3\", \"Topic3\", \"Topic3\", \"Topic3\", \"Topic3\", \"Topic3\", \"Topic3\", \"Topic3\", \"Topic4\", \"Topic4\", \"Topic4\", \"Topic4\", \"Topic4\", \"Topic4\", \"Topic4\", \"Topic4\", \"Topic4\", \"Topic4\", \"Topic4\", \"Topic4\", \"Topic4\", \"Topic4\", \"Topic4\", \"Topic4\", \"Topic4\", \"Topic4\", \"Topic4\", \"Topic4\", \"Topic4\", \"Topic4\", \"Topic4\", \"Topic4\", \"Topic4\", \"Topic4\", \"Topic4\", \"Topic4\", \"Topic4\", \"Topic4\", \"Topic4\", \"Topic4\", \"Topic4\", \"Topic4\", \"Topic4\", \"Topic4\", \"Topic4\", \"Topic4\", \"Topic4\", \"Topic4\", \"Topic4\", \"Topic4\", \"Topic4\", \"Topic4\", \"Topic4\", \"Topic4\", \"Topic4\", \"Topic4\", \"Topic4\", \"Topic4\", \"Topic4\", \"Topic4\", \"Topic4\", \"Topic4\", \"Topic4\", \"Topic4\", \"Topic4\", \"Topic4\", \"Topic4\", \"Topic4\", \"Topic4\", \"Topic4\", \"Topic4\", \"Topic4\", \"Topic4\", \"Topic4\", \"Topic4\", \"Topic4\", \"Topic4\", \"Topic4\", \"Topic4\", \"Topic4\", \"Topic4\", \"Topic4\", \"Topic4\", \"Topic4\", \"Topic4\", \"Topic4\", \"Topic4\", \"Topic4\", \"Topic4\", \"Topic4\", \"Topic5\", \"Topic5\", \"Topic5\", \"Topic5\", \"Topic5\", \"Topic5\", \"Topic5\", \"Topic5\", \"Topic5\", \"Topic5\", \"Topic5\", \"Topic5\", \"Topic5\", \"Topic5\", \"Topic5\", \"Topic5\", \"Topic5\", \"Topic5\", \"Topic5\", \"Topic5\", \"Topic5\", \"Topic5\", \"Topic5\", \"Topic5\", \"Topic5\", \"Topic5\", \"Topic5\", \"Topic5\", \"Topic5\", \"Topic5\", \"Topic5\", \"Topic5\", \"Topic5\", \"Topic5\", \"Topic5\", \"Topic5\", \"Topic5\", \"Topic5\", \"Topic5\", \"Topic5\", \"Topic5\", \"Topic5\", \"Topic5\", \"Topic5\", \"Topic5\", \"Topic5\", \"Topic5\", \"Topic5\", \"Topic5\", \"Topic5\", \"Topic5\", \"Topic5\", \"Topic5\", \"Topic5\", \"Topic5\", \"Topic5\", \"Topic5\", \"Topic5\", \"Topic5\", \"Topic5\", \"Topic5\", \"Topic5\", \"Topic5\", \"Topic5\", \"Topic5\", \"Topic5\", \"Topic5\", \"Topic5\", \"Topic5\", \"Topic5\", \"Topic5\", \"Topic5\", \"Topic5\", \"Topic5\", \"Topic5\", \"Topic5\", \"Topic5\", \"Topic5\", \"Topic5\", \"Topic5\", \"Topic6\", \"Topic6\", \"Topic6\", \"Topic6\", \"Topic6\", \"Topic6\", \"Topic6\", \"Topic6\", \"Topic6\", \"Topic6\", \"Topic6\", \"Topic6\", \"Topic6\", \"Topic6\", \"Topic6\", \"Topic6\", \"Topic6\", \"Topic6\", \"Topic6\", \"Topic6\", \"Topic6\", \"Topic6\", \"Topic6\", \"Topic6\", \"Topic6\", \"Topic6\", \"Topic6\", \"Topic6\", \"Topic6\", \"Topic6\", \"Topic6\", \"Topic6\", \"Topic6\", \"Topic6\", \"Topic6\", \"Topic6\", \"Topic6\", \"Topic6\", \"Topic6\", \"Topic6\", \"Topic6\", \"Topic6\", \"Topic6\", \"Topic6\", \"Topic6\", \"Topic6\", \"Topic6\", \"Topic6\", \"Topic6\", \"Topic6\", \"Topic6\", \"Topic6\", \"Topic6\", \"Topic6\", \"Topic6\", \"Topic6\", \"Topic6\", \"Topic6\", \"Topic6\", \"Topic6\", \"Topic6\", \"Topic6\", \"Topic6\", \"Topic6\", \"Topic6\", \"Topic7\", \"Topic7\", \"Topic7\", \"Topic7\", \"Topic7\", \"Topic7\", \"Topic7\", \"Topic7\", \"Topic7\", \"Topic7\", \"Topic7\", \"Topic7\", \"Topic7\", \"Topic7\", \"Topic7\", \"Topic7\", \"Topic7\", \"Topic7\", \"Topic7\", \"Topic7\", \"Topic7\", \"Topic7\", \"Topic7\", \"Topic7\", \"Topic7\", \"Topic7\", \"Topic7\", \"Topic7\", \"Topic7\", \"Topic7\", \"Topic7\", \"Topic7\", \"Topic7\", \"Topic7\", \"Topic7\", \"Topic7\", \"Topic7\", \"Topic7\", \"Topic7\", \"Topic7\", \"Topic7\", \"Topic7\", \"Topic7\", \"Topic7\", \"Topic7\", \"Topic7\", \"Topic7\", \"Topic7\", \"Topic7\", \"Topic7\", \"Topic7\", \"Topic7\", \"Topic7\", \"Topic7\", \"Topic7\", \"Topic7\", \"Topic7\", \"Topic7\", \"Topic7\", \"Topic7\", \"Topic7\", \"Topic7\", \"Topic7\", \"Topic7\", \"Topic7\", \"Topic7\", \"Topic7\", \"Topic7\", \"Topic7\", \"Topic7\", \"Topic7\", \"Topic7\", \"Topic7\", \"Topic7\", \"Topic7\", \"Topic7\", \"Topic7\"], \"logprob\": [30.0, 29.0, 28.0, 27.0, 26.0, 25.0, 24.0, 23.0, 22.0, 21.0, 20.0, 19.0, 18.0, 17.0, 16.0, 15.0, 14.0, 13.0, 12.0, 11.0, 10.0, 9.0, 8.0, 7.0, 6.0, 5.0, 4.0, 3.0, 2.0, 1.0, -6.1661, -6.6586, -6.6586, -6.6586, -6.6588, -6.6592, -5.7129, -7.0417, -7.0417, -7.0417, -7.0417, -7.0417, -7.0417, -7.0417, -7.0417, -7.0417, -7.0417, -7.0417, -7.0418, -7.0418, -7.0418, -7.0418, -7.0418, -7.042, -7.042, -7.0421, -7.042, -7.0421, -7.0422, -7.0425, -6.6587, -6.6592, -6.6586, -5.9923, -6.0017, -6.6587, -6.1743, -6.4344, -5.9885, -4.6313, -6.0551, -4.9379, -6.3825, -4.2866, -5.0609, -5.7065, -6.4633, -5.7267, -4.8355, -5.5512, -5.9625, -5.8655, -6.2429, -5.7065, -4.8107, -5.6171, -4.4111, -5.1743, -5.2143, -5.533, -5.4826, -5.6519, -5.6577, -5.9007, -5.3346, -5.544, -5.6615, -5.5979, -5.8655, -5.8299, -5.9465, -5.933, -5.9429, -6.2854, -6.2854, -6.2856, -6.9141, -6.9141, -6.9141, -6.9141, -6.9141, -6.9141, -6.9141, -6.9141, -6.9141, -6.9141, -6.9141, -6.9141, -6.9141, -6.9141, -6.9141, -6.9141, -6.9141, -6.9141, -6.9141, -6.9141, -6.9141, -6.9141, -6.9141, -6.9141, -6.9141, -6.9141, -6.9141, -6.2855, -5.6261, -6.2854, -5.9676, -6.2851, -4.5762, -5.4622, -6.2853, -5.626, -5.3212, -6.2856, -6.2855, -6.2854, -6.4576, -6.381, -6.1846, -5.0563, -6.2854, -6.4123, -5.8955, -5.9253, -6.2939, -4.8622, -5.3453, -5.9817, -5.4097, -4.7683, -5.4105, -5.5384, -5.6437, -5.746, -5.9982, -5.5133, -5.9023, -5.626, -5.4747, -5.6597, -5.7239, -5.9273, -5.755, -5.8307, -5.8989, -5.9286, -5.9092, -5.9287, -6.8156, -6.8156, -6.8158, -6.8159, -7.1986, -7.1986, -7.1986, -7.1986, -7.1986, -7.1986, -7.1986, -7.1986, -7.1987, -7.1987, -7.1987, -7.1987, -7.1987, -7.1987, -7.1987, -7.1987, -7.1987, -7.1987, -7.1987, -7.1988, -7.1988, -7.1988, -7.1988, -7.1989, -7.199, -7.199, -6.326, -6.8156, -6.8158, -5.3929, -6.8193, -5.3708, -4.7077, -4.9689, -5.7219, -5.1881, -3.9348, -6.5393, -6.5413, -5.1242, -3.629, -4.8534, -4.8191, -4.8417, -5.0346, -5.4261, -6.1999, -6.5625, -5.3505, -5.9272, -5.0645, -5.6931, -5.3169, -5.7424, -5.0896, -5.0845, -5.6365, -5.3668, -5.3688, -5.5681, -5.5505, -5.1215, -5.6479, -5.6085, -5.2634, -5.5747, -5.613, -5.6354, -6.6873, -6.6874, -6.6876, -6.6878, -6.9636, -6.9638, -6.964, -6.9651, -6.966, -7.3467, -7.3467, -7.3467, -7.3467, -7.3467, -7.3467, -7.3467, -7.3467, -7.3467, -7.3467, -7.3467, -7.3468, -7.3468, -7.3468, -7.3469, -7.3469, -7.3469, -7.347, -7.347, -7.347, -7.347, -6.4712, -6.6874, -6.471, -5.7497, -6.471, -6.1671, -6.691, -6.3201, -6.964, -6.1158, -5.7477, -6.964, -6.9636, -6.585, -6.6876, -6.5245, -6.9641, -5.3683, -3.6785, -6.6877, -6.576, -5.1717, -5.3862, -5.2648, -5.8677, -4.5628, -5.0974, -5.0118, -5.511, -5.8526, -5.642, -5.4561, -5.3863, -4.5624, -5.2982, -5.4801, -5.3013, -5.5238, -5.2082, -5.4754, -5.3251, -5.3276, -5.0835, -5.3514, -5.3417, -5.3397, -5.4678, -5.4369, -5.3144, -5.508, -5.5638, -5.6336, -5.9576, -6.4628, -6.7091, -6.7135, -7.0377, -7.0378, -6.8946, -6.3585, -7.2544, -7.2567, -7.2767, -6.5865, -7.107, -7.5302, -7.5302, -7.5302, -7.5302, -7.5302, -7.5302, -7.5302, -7.5302, -7.5303, -7.5303, -7.5304, -7.5304, -7.5305, -7.5307, -7.5306, -7.5308, -7.5315, -6.3115, -6.8604, -5.1031, -5.3042, -5.9455, -7.0376, -7.0378, -5.2327, -6.7118, -6.86, -6.5192, -5.4784, -7.0473, -4.6787, -5.9424, -6.5288, -4.2867, -4.9114, -5.919, -5.9577, -4.723, -4.9214, -5.5822, -5.9501, -3.6173, -6.1853, -5.3948, -5.7048, -4.975, -5.194, -5.9037, -5.3717, -5.0311, -5.56, -5.2561, -5.8825, -5.2922, -5.5851, -4.7728, -5.2153, -4.716, -5.6107, -5.5108, -5.0609, -5.5818, -5.1017, -5.38, -5.5174, -5.4727, -5.576, -5.889, -5.6426, -6.1897, -6.2386, -6.0627, -6.4088, -6.473, -6.5409, -5.6935, -6.544, -6.5463, -6.3649, -5.7585, -6.6937, -6.6198, -6.0042, -6.6974, -5.4718, -6.7796, -6.2215, -5.9727, -6.7087, -6.8746, -6.7878, -5.5577, -6.9776, -6.0631, -6.7173, -6.98, -6.1034, -4.3088, -4.485, -6.1491, -4.351, -4.9384, -6.0355, -4.9617, -5.5495, -5.0441, -4.5009, -4.9289, -4.3711, -4.9769, -4.6715, -5.6508, -5.5921, -5.4687, -4.1435, -5.0508, -5.3557, -5.656, -5.3613, -5.5345, -4.4483, -4.1638, -3.8225, -4.6508, -5.0927, -5.3385, -5.385, -5.2893, -5.2359, -5.2652, -5.4123, -5.3504, -6.2024, -6.3801, -6.5963, -6.5965, -6.8726, -5.5391, -7.2557, -7.2557, -7.2557, -7.2557, -7.2557, -7.2557, -7.2557, -7.2557, -7.2557, -7.2557, -7.2557, -7.2557, -7.2558, -7.2558, -7.2558, -7.2558, -7.2558, -7.2559, -7.2559, -7.2559, -7.2559, -7.2559, -7.256, -7.256, -5.9664, -6.5963, -6.6019, -5.0755, -6.3801, -6.3806, -6.8756, -5.7404, -3.6241, -5.876, -6.9136, -6.5963, -4.757, -6.5962, -5.6068, -5.1294, -6.457, -4.2345, -6.0413, -6.7145, -5.9401, -5.3878, -6.1115, -6.2689, -5.3829, -5.2272, -5.0832, -5.7145, -4.9421, -6.0102, -5.4322, -5.3476, -5.4506, -5.7343, -5.6401, -5.8179, -5.6016, -5.7485, -5.3462, -5.5995, -5.7246, -5.5161, -5.7486, -5.7265, -5.8046, -5.8046, -5.8123], \"loglift\": [30.0, 29.0, 28.0, 27.0, 26.0, 25.0, 24.0, 23.0, 22.0, 21.0, 20.0, 19.0, 18.0, 17.0, 16.0, 15.0, 14.0, 13.0, 12.0, 11.0, 10.0, 9.0, 8.0, 7.0, 6.0, 5.0, 4.0, 3.0, 2.0, 1.0, 2.4185, 2.3277, 2.3277, 2.3277, 2.3277, 2.3274, 2.2562, 2.2287, 2.2287, 2.2287, 2.2287, 2.2287, 2.2287, 2.2287, 2.2287, 2.2287, 2.2287, 2.2287, 2.2286, 2.2286, 2.2286, 2.2286, 2.2286, 2.2285, 2.2285, 2.2285, 2.2285, 2.2284, 2.2284, 2.2281, 2.0965, 2.096, 2.0943, 1.8276, 1.82, 2.0705, 1.7911, 1.9204, 1.6109, 0.776, 1.5905, 0.7597, 1.7444, 0.018, 0.6466, 1.1735, 1.7444, 1.021, 0.0975, 0.7728, 1.1765, 1.0773, 1.4518, 0.8982, -0.0495, 0.7974, -0.6467, 0.1848, -0.0802, 0.3705, 0.1043, 0.4087, 0.3489, 0.8289, -0.3476, -0.0021, 0.1055, -0.8619, 0.3844, 0.1185, 0.7048, 0.1254, 0.2863, 3.2289, 3.2289, 3.2288, 2.9301, 2.9301, 2.9301, 2.9301, 2.9301, 2.9301, 2.9301, 2.9301, 2.9301, 2.9301, 2.9301, 2.9301, 2.9301, 2.9301, 2.9301, 2.9301, 2.9301, 2.9301, 2.9301, 2.9301, 2.9301, 2.9301, 2.9301, 2.9301, 2.9301, 2.9301, 2.9301, 2.8599, 2.6745, 2.8066, 2.3518, 2.525, 1.3554, 1.7788, 2.2835, 1.5402, 1.1223, 2.2098, 2.1681, 2.1633, 2.3497, 2.2007, 1.9271, 0.3028, 2.0172, 2.1621, 1.2286, 1.2681, 1.885, -0.5575, 0.1845, 1.2953, 0.264, -1.0039, 0.1315, 0.3651, 0.5855, 0.641, 1.243, -0.1209, 0.9202, -0.1552, -0.7387, -0.368, -0.1416, 0.4962, -0.822, -0.4257, -0.1319, -0.2211, -0.5019, -0.2311, 2.1319, 2.1319, 2.1318, 2.1317, 2.0373, 2.0373, 2.0373, 2.0373, 2.0373, 2.0373, 2.0373, 2.0373, 2.0372, 2.0372, 2.0372, 2.0372, 2.0372, 2.0372, 2.0372, 2.0372, 2.0372, 2.0372, 2.0372, 2.0372, 2.0372, 2.0372, 2.0372, 2.0371, 2.0371, 2.037, 1.8958, 1.9062, 1.9062, 1.3757, 1.8794, 1.2238, 0.8751, 0.9795, 1.3365, 1.0196, 0.3699, 1.7111, 1.7012, 0.9608, 0.1354, 0.6173, 0.5064, 0.5174, 0.6391, 0.8787, 1.3769, 1.6164, 0.7101, 1.1184, 0.4774, 0.9406, 0.5792, 0.9411, 0.3177, 0.277, 0.7944, 0.4891, 0.4484, 0.6158, 0.4562, -0.1345, 0.5459, 0.35, -0.5274, -0.1823, -0.0261, 0.1316, 2.0141, 2.014, 2.0139, 2.0137, 1.9627, 1.9626, 1.9626, 1.9615, 1.9611, 1.8704, 1.8704, 1.8704, 1.8704, 1.8704, 1.8704, 1.8704, 1.8704, 1.8704, 1.8704, 1.8704, 1.8703, 1.8703, 1.8703, 1.8703, 1.8703, 1.8703, 1.8702, 1.8702, 1.8702, 1.8702, 1.8694, 1.8148, 1.7647, 1.5934, 1.6488, 1.5626, 1.6692, 1.551, 1.7532, 1.4834, 1.3439, 1.7433, 1.7413, 1.602, 1.6309, 1.5652, 1.7184, 0.9566, 0.0859, 1.558, 1.5027, 0.7767, 0.8214, 0.7168, 1.059, 0.1732, 0.4446, 0.3497, 0.7182, 0.9876, 0.7889, 0.6045, 0.5098, -0.2577, 0.4093, 0.5783, 0.3963, 0.5736, 0.1991, 0.4831, 0.2573, 0.2552, -0.0965, 0.1784, 0.0175, -0.0142, 0.2059, -0.0319, -0.3814, -0.1156, -0.0931, 0.3731, 1.4891, 1.4585, 1.4384, 1.4344, 1.4026, 1.4025, 1.3921, 1.3859, 1.3725, 1.3705, 1.3519, 1.3446, 1.34, 1.3259, 1.3259, 1.3259, 1.3259, 1.3259, 1.3258, 1.3258, 1.3258, 1.3258, 1.3258, 1.3258, 1.3258, 1.3257, 1.3256, 1.3256, 1.3254, 1.3251, 1.2887, 1.3003, 1.1468, 1.1384, 1.1339, 1.2689, 1.2609, 1.0139, 1.2152, 1.2319, 1.1677, 0.9967, 1.2495, 0.8633, 1.0392, 1.1436, 0.7003, 0.7623, 0.9787, 0.9851, 0.6024, 0.6614, 0.8506, 0.9511, 0.1471, 1.0229, 0.6857, 0.8093, 0.4957, 0.573, 0.8649, 0.56, 0.3613, 0.6539, 0.4415, 0.8471, 0.4153, 0.6215, -0.0368, 0.3145, -0.4114, 0.5732, 0.4477, -0.1279, 0.4788, -0.3406, -0.0185, 0.2997, -0.0654, 0.0108, 0.9409, 0.9366, 0.9309, 0.9302, 0.9251, 0.924, 0.9212, 0.9184, 0.9183, 0.9155, 0.9153, 0.9133, 0.9117, 0.9105, 0.9097, 0.9074, 0.9074, 0.9072, 0.9057, 0.9045, 0.9009, 0.9007, 0.8992, 0.8988, 0.8978, 0.893, 0.8925, 0.8914, 0.8909, 0.8896, 0.8822, 0.8796, 0.8884, 0.8482, 0.8602, 0.8824, 0.8438, 0.8574, 0.8285, 0.7908, 0.8111, 0.7631, 0.8001, 0.7336, 0.8365, 0.8279, 0.8081, 0.6177, 0.7201, 0.7619, 0.8071, 0.7321, 0.7461, 0.2877, 0.1409, -0.0581, 0.2823, 0.4896, 0.5142, 0.4709, 0.2976, 0.1255, 0.0939, 0.1175, -0.3634, 2.175, 2.152, 2.1187, 2.1186, 2.0665, 1.9865, 1.9728, 1.9728, 1.9728, 1.9728, 1.9728, 1.9728, 1.9728, 1.9728, 1.9728, 1.9728, 1.9727, 1.9727, 1.9727, 1.9727, 1.9727, 1.9727, 1.9727, 1.9726, 1.9726, 1.9726, 1.9726, 1.9726, 1.9726, 1.9725, 1.9203, 1.9169, 1.7515, 1.1384, 1.6425, 1.6259, 1.8042, 1.2632, 0.1403, 1.2767, 1.7977, 1.6095, 0.5685, 1.5976, 1.0054, 0.6877, 1.4984, 0.0701, 1.2151, 1.6323, 1.1114, 0.7097, 1.2004, 1.2948, 0.5987, 0.4465, 0.3092, 0.8019, -0.0091, 0.9926, 0.2753, 0.0115, 0.1322, 0.5123, 0.3183, 0.559, 0.096, 0.3711, -0.6102, -0.1287, 0.1715, -0.5291, 0.1549, 0.0405, 0.2804, 0.1439, 0.1943]}, \"token.table\": {\"Topic\": [3, 5, 3, 7, 1, 6, 1, 3, 4, 5, 6, 7, 1, 2, 3, 4, 5, 6, 7, 2, 4, 5, 1, 3, 5, 6, 7, 2, 5, 7, 5, 7, 2, 2, 6, 6, 4, 7, 2, 3, 5, 6, 3, 5, 3, 3, 1, 4, 5, 7, 2, 3, 4, 5, 6, 7, 7, 1, 2, 3, 4, 5, 6, 7, 1, 2, 3, 4, 5, 6, 7, 1, 2, 3, 4, 5, 6, 7, 1, 1, 5, 1, 3, 4, 5, 6, 7, 7, 1, 4, 5, 2, 6, 1, 3, 4, 5, 6, 7, 2, 4, 5, 2, 3, 6, 2, 1, 6, 7, 1, 5, 1, 2, 3, 5, 6, 7, 7, 4, 6, 4, 3, 4, 5, 1, 2, 3, 4, 5, 6, 7, 1, 2, 3, 4, 5, 6, 7, 2, 3, 4, 5, 6, 7, 2, 4, 5, 6, 7, 2, 7, 7, 6, 5, 6, 7, 2, 5, 6, 7, 1, 3, 4, 5, 6, 7, 1, 3, 4, 5, 6, 7, 4, 3, 6, 1, 2, 3, 4, 5, 6, 7, 1, 4, 5, 6, 7, 3, 4, 5, 6, 7, 2, 3, 4, 5, 6, 1, 1, 2, 4, 5, 6, 7, 1, 3, 4, 5, 6, 7, 3, 4, 5, 6, 7, 3, 4, 5, 7, 1, 3, 4, 5, 5, 1, 3, 4, 5, 6, 7, 1, 4, 5, 6, 3, 6, 7, 2, 1, 5, 6, 3, 1, 2, 3, 5, 6, 7, 1, 3, 4, 6, 1, 2, 3, 4, 5, 6, 1, 5, 1, 2, 3, 4, 6, 7, 3, 2, 3, 4, 5, 6, 7, 6, 7, 3, 4, 5, 7, 3, 1, 5, 1, 3, 4, 5, 7, 1, 4, 5, 3, 4, 5, 6, 2, 4, 7, 7, 2, 1, 3, 4, 5, 6, 1, 3, 4, 5, 6, 7, 3, 3, 7, 1, 2, 4, 5, 6, 7, 4, 1, 2, 3, 4, 5, 7, 3, 1, 3, 4, 5, 6, 7, 3, 1, 4, 3, 5, 6, 7, 1, 7, 4, 5, 6, 7, 2, 1, 4, 5, 7, 3, 6, 7, 2, 1, 5, 4, 4, 5, 6, 7, 1, 1, 2, 3, 5, 4, 1, 4, 5, 6, 1, 6, 2, 1, 3, 4, 5, 6, 5, 4, 2, 1, 3, 4, 5, 6, 1, 6, 1, 2, 3, 4, 5, 6, 7, 1, 2, 4, 5, 6, 2, 4, 5, 6, 7, 2, 3, 4, 2, 2, 1, 3, 4, 5, 6, 7, 1, 2, 3, 4, 5, 6, 7, 1, 1, 2, 3, 4, 5, 6, 7, 1, 3, 4, 5, 6, 2, 2, 5, 6, 7, 6, 2, 3, 7, 2, 4, 5, 6, 7, 1, 2, 3, 4, 5, 6, 7, 2, 1, 2, 3, 4, 5, 6, 7, 1, 4, 6, 6, 1, 4, 5, 6, 7, 1, 3, 4, 1, 2, 3, 4, 5, 6, 1, 2, 3, 4, 5, 6, 7, 3, 1, 4, 5, 6, 7, 2, 3, 6, 7, 4, 5, 3, 4, 1, 6, 2, 1, 3, 4, 5, 6, 7, 1, 2, 3, 4, 5, 7, 1, 4, 6, 7, 1, 2, 3, 4, 5, 7, 3, 4, 5, 6, 7, 1, 5, 6, 7, 1, 2, 3, 4, 5, 6, 7, 2, 3, 5, 6, 6, 7, 6, 3, 2, 3, 4, 5, 6, 7, 2, 7, 5, 7, 7, 1, 3, 4, 5, 6, 7, 1, 3, 4, 5, 2, 5, 6, 1, 2, 3, 4, 6, 7, 7, 1, 2, 4, 5, 6, 4, 1, 4, 6, 3, 6, 1, 2, 3, 4, 5, 6, 7, 4, 2, 3, 1, 2, 3, 4, 5, 6, 7, 1, 3, 4, 5, 6, 3, 4, 5, 7, 3, 4, 5, 6, 7, 3, 7, 3, 1, 3, 5, 4, 6, 5, 6, 7, 7, 1, 4, 5, 6, 7, 4, 5, 4, 4, 6, 1, 1, 3, 4, 5, 6, 7, 2, 3, 6, 4, 3, 2, 5, 1, 2, 3, 4, 5, 6, 7, 1, 3, 4, 5, 6, 7, 4, 5, 5, 1, 3, 4, 5, 6, 7, 7, 1, 3, 4, 5, 6, 7, 4, 7, 1, 2, 3, 4, 5, 6, 7, 1, 3, 4, 5, 6, 7, 6, 3, 4, 5, 6, 7, 3, 1, 4, 5, 6, 7, 4, 6, 7, 1, 2, 4, 5, 6, 7, 1, 1, 3, 5, 6, 7, 7, 5, 4, 4, 5, 6, 1, 3, 4, 5, 7, 3, 5, 6, 7, 1, 3, 1, 2, 3, 4, 5, 6, 7, 1, 4, 4, 6, 5, 7, 4, 4, 6, 3, 6, 7, 3, 4, 5, 6, 7, 1, 2, 6, 1, 7, 1, 6, 7, 5, 4, 5, 6, 4, 1, 6, 1, 3, 4, 5, 6, 7, 3, 1, 6, 6, 7, 6, 4, 5, 4, 5, 6, 7, 3, 7, 7, 1, 1, 3, 4, 5, 7, 5, 5, 5, 5, 4, 6, 7, 5, 5, 4, 5, 4, 5, 6, 1, 2, 3, 4, 5, 2, 1, 3, 4, 5, 6, 7, 1, 4, 5, 6, 7, 1, 2, 3, 4, 5, 6, 7, 6, 4, 1, 6, 1, 3, 4, 5, 6, 7, 6, 4, 2, 6, 7, 1, 5, 6, 1, 2, 3, 4, 5, 6, 7, 2, 1, 6, 1, 3, 4, 5, 6, 7, 3, 4, 2, 7, 6, 4, 1, 6, 3, 1, 6, 2, 4, 5, 1, 3, 5, 7, 7, 1, 2, 3, 4, 5, 6, 7, 2, 1, 3, 4, 5, 6, 7, 7, 6, 1, 3, 5, 1, 5, 5, 6, 2, 3, 1, 3, 4, 5, 6, 5, 1, 4, 5, 4, 3, 1, 2, 3, 5, 6, 7, 7, 1, 2, 3, 4, 5, 6, 7, 1, 1, 2, 3, 4, 5, 6, 7, 1, 2, 3, 4, 5, 6, 7, 1, 3, 4, 5, 6, 7, 5, 2, 2, 6, 1, 5, 2, 3, 4, 5, 6, 7, 3, 4, 5, 6, 7, 3, 4, 5, 6, 2, 1, 2, 4, 1, 4, 6, 1, 3, 1, 3, 4, 5, 6, 7, 3, 3, 7, 4, 4, 1, 3, 4, 5, 7, 2, 4, 5, 6, 7, 4, 5, 6, 7, 1, 3, 4, 1, 3, 4, 5, 4, 1, 2, 3, 4, 5, 6, 7, 2, 3, 4, 5, 6, 7, 4, 7, 1, 1, 3, 5, 6, 7, 6, 7, 1, 2, 3, 4, 5, 6, 7, 5, 3, 5, 2, 5, 3, 1, 1, 5, 7, 7, 4], \"Freq\": [0.4927408318698832, 0.2463704159349416, 0.6319997146134325, 0.8369254820643339, 0.5240161165113209, 0.3493440776742139, 0.05415229623818874, 0.25271071577821413, 0.05415229623818874, 0.27076148119094373, 0.23465995036548457, 0.12635535788910707, 0.020382606604314745, 0.020382606604314745, 0.04076521320862949, 0.12229563962588846, 0.40765213208629486, 0.3261217056690359, 0.08153042641725898, 0.192801641702814, 0.385603283405628, 0.385603283405628, 0.05161498087214685, 0.07742247130822028, 0.6709947513379091, 0.15484494261644055, 0.05161498087214685, 0.1253061212488729, 0.37591836374661863, 0.5012244849954915, 0.7193127024689926, 0.1438625404937985, 0.5569429917674136, 0.3650785166930003, 0.3650785166930003, 0.9686347410927774, 0.8274260675488098, 0.8369807628456791, 0.14650184277985048, 0.4395055283395514, 0.14650184277985048, 0.14650184277985048, 0.8432365196550275, 0.9173909650972227, 0.843196581499722, 0.8431927139747, 0.4103510991228295, 0.0820702198245659, 0.4103510991228295, 0.1641404396491318, 0.018201961719473747, 0.036403923438947494, 0.07280784687789499, 0.036403923438947494, 0.7826843539373711, 0.036403923438947494, 0.8369255750998341, 0.16497569046629132, 0.01833063227403237, 0.1283144259182266, 0.13747974205524277, 0.20163695501435605, 0.32995138093258264, 0.027495948411048552, 0.03180915823641043, 0.015904579118205215, 0.12723663294564172, 0.17495037030025737, 0.33399616148230954, 0.17495037030025737, 0.14314121206384695, 0.14849173119793696, 0.024748621866322824, 0.061871554665807064, 0.17324035306425978, 0.32173208426219674, 0.14849173119793696, 0.13611742026477555, 0.8792320394594814, 0.5079718391439756, 0.2539859195719878, 0.1604601178006993, 0.06876862191458541, 0.06876862191458541, 0.18338299177222778, 0.4813803534020979, 0.022922873971528472, 0.8368822057470018, 0.6569871707453068, 0.7411169800825912, 0.9058902134455589, 0.13697443453994376, 0.6848721726997189, 0.10013361143000471, 0.15020041714500706, 0.16688935238334118, 0.2670229638133459, 0.1835782876216753, 0.11682254666833883, 0.19187069861201295, 0.3837413972240259, 0.3837413972240259, 0.21916972066432272, 0.21916972066432272, 0.43833944132864544, 0.7745852502482256, 0.12312043837907188, 0.49248175351628753, 0.3078010959476797, 0.8727623625081803, 0.8651407738250895, 0.08335761145678414, 0.027785870485594714, 0.13892935242797358, 0.4167880572839207, 0.11114348194237886, 0.22228696388475772, 0.8369721295254684, 0.8274268577942466, 0.9295749292881037, 0.8274675050815108, 0.8432411037790608, 0.7272533468277282, 0.24241778227590943, 0.07607136824203245, 0.012171418918725191, 0.1338856081059771, 0.08519993243107633, 0.143014172295021, 0.4381710810741069, 0.10649991553884543, 0.041439745077987984, 0.03107980880849099, 0.020719872538993992, 0.13467917150346095, 0.2900782155459159, 0.4247573870493769, 0.06215961761698198, 0.09290434289418907, 0.015484057149031512, 0.1238724571922521, 0.3716173715767563, 0.2941970858315987, 0.07742028574515757, 0.04883017645029239, 0.024415088225146195, 0.3906414116023391, 0.4394715880526315, 0.09766035290058478, 0.774585219740674, 0.8368824773980034, 0.8369038058025157, 0.9357600278991217, 0.23430603522627663, 0.3514590528394149, 0.46861207045255326, 0.7745853542684373, 0.013647700612272745, 0.8871005397977284, 0.09553390428590922, 0.10568598259481701, 0.19375763475716454, 0.21137196518963403, 0.35228660864939004, 0.07045732172987801, 0.07045732172987801, 0.0424292586182008, 0.0848585172364016, 0.0636438879273012, 0.5940096206548112, 0.0424292586182008, 0.1697170344728032, 0.7411994495759577, 0.043108850194172404, 0.948394704271793, 0.15928212325391256, 0.02450494203906347, 0.06126235509765867, 0.17153459427344428, 0.3308167175273568, 0.1470296522343808, 0.1102722391757856, 0.5115795895078455, 0.1023159179015691, 0.1023159179015691, 0.2046318358031382, 0.8369254986792166, 0.05250220694300357, 0.05250220694300357, 0.05250220694300357, 0.47251986248703215, 0.367515448601025, 0.018290118533417183, 0.009145059266708591, 0.10974071120050309, 0.07316047413366873, 0.7956201562036475, 0.8727928191277576, 0.03512699007965292, 0.00878174751991323, 0.02634524255973969, 0.00878174751991323, 0.9133017420709759, 0.00878174751991323, 0.061597406185150354, 0.041064937456766905, 0.12319481237030071, 0.41064937456766903, 0.041064937456766905, 0.30798703092575175, 0.24995735348840176, 0.18746801511630132, 0.21871268430235152, 0.15622334593025108, 0.18746801511630132, 0.08212825197019805, 0.08212825197019805, 0.8212825197019805, 0.8369309532943303, 0.09555193825935861, 0.33443178390775513, 0.047775969129679303, 0.477759691296793, 0.8521539303834815, 0.07873011202365639, 0.25193635847570045, 0.23619033607096918, 0.283428403285163, 0.031492044809462556, 0.11022215683311895, 0.5124875541357299, 0.10249751082714598, 0.30749253248143793, 0.10249751082714598, 0.07622062982896995, 0.1524412596579399, 0.7622062982896994, 0.7745853135340484, 0.8728843451359357, 0.8651420970618017, 0.8954044377205372, 0.843174279213778, 0.08774434423311123, 0.010968043029138903, 0.08774434423311123, 0.21936086058277807, 0.5154980223695285, 0.07677630120397232, 0.025233732340823975, 0.05046746468164795, 0.025233732340823975, 0.8831806319288391, 0.024494378423976518, 0.016329585615984344, 0.008164792807992172, 0.048988756847953036, 0.057153549655945206, 0.8409736592231938, 0.872763187063702, 0.8517863412257304, 0.013553910113110827, 0.013553910113110827, 0.013553910113110827, 0.027107820226221654, 0.8945580674653146, 0.027107820226221654, 0.8432254796738541, 0.11470252976987269, 0.11470252976987269, 0.057351264884936345, 0.17205379465480902, 0.34410758930961804, 0.17205379465480902, 0.9398140653985679, 0.03240738156546786, 0.06351032420652222, 0.5715929178586999, 0.2540412968260889, 0.12702064841304445, 0.6319544337081092, 0.8727627631381525, 0.8650649638032261, 0.08165364185963576, 0.12248046278945364, 0.12248046278945364, 0.5715754930174504, 0.12248046278945364, 0.17562980202992856, 0.5268894060897856, 0.17562980202992856, 0.08136630081133214, 0.12204945121699823, 0.569564105679325, 0.20341575202833037, 0.3309318174743786, 0.3309318174743786, 0.1654659087371893, 0.7513002094781752, 0.7745852493135496, 0.07682034057673756, 0.07682034057673756, 0.30728136230695025, 0.15364068115347512, 0.3841017028836878, 0.04142490487819464, 0.1518913178867137, 0.11046641300851905, 0.2899743341473625, 0.20712452439097323, 0.19331622276490834, 0.843173999045057, 0.5042610981583209, 0.25213054907916044, 0.014765652533835008, 0.007382826266917504, 0.029531305067670016, 0.007382826266917504, 0.9228532833646881, 0.022148478800752512, 0.8274388323121964, 0.07340689471525425, 0.03146009773510896, 0.1468137894305085, 0.17827388716561746, 0.5138482630067797, 0.06292019547021792, 0.8431744273496098, 0.010923566274264091, 0.22939489175954592, 0.1420063615654332, 0.4150955184220355, 0.08738853019411273, 0.10923566274264092, 0.8431964932787871, 0.6569875504695382, 0.9280447060150431, 0.3575488730862583, 0.5005684223207616, 0.03575488730862583, 0.07150977461725166, 0.872762787303522, 0.8368819902880348, 0.15048643991890348, 0.15048643991890348, 0.15048643991890348, 0.4514593197567104, 0.7745852461275289, 0.21278888402396692, 0.04255777680479338, 0.5958088752671074, 0.12767333041438017, 0.8432864323269607, 0.9531640875844617, 0.03971517031601923, 0.7745852053734066, 0.8728513413363312, 0.8650633934847667, 0.827547743335468, 0.013265406370654983, 0.10612325096523986, 0.8489860077219189, 0.026530812741309966, 0.87276279468406, 0.8728031422243677, 0.13429078631736402, 0.13429078631736402, 0.6714539315868201, 0.8275138819407077, 0.02556666640474863, 0.08948333241662021, 0.012783333202374314, 0.8564833245590792, 0.8727634380256509, 0.9603523247386692, 0.7745853154894502, 0.07998716944487892, 0.10664955925983856, 0.18663672870471748, 0.586572575929112, 0.02666238981495964, 0.8158824327501891, 0.9282019044943188, 0.7745852580653484, 0.21009949144373802, 0.07003316381457933, 0.2801326552583173, 0.24511607335102767, 0.21009949144373802, 0.030566401997212063, 0.947558461913574, 0.10537804984373085, 0.030108014241065958, 0.10537804984373085, 0.09032404272319787, 0.18064808544639574, 0.3612961708927915, 0.12043205696426383, 0.3437739281527284, 0.0859434820381821, 0.1718869640763642, 0.1718869640763642, 0.0859434820381821, 0.10642845976673333, 0.053214229883366666, 0.26607114941683335, 0.37249960918356667, 0.1596426896501, 0.7745853560835276, 0.2485082135144766, 0.7455246405434298, 0.7745853504241395, 0.7745853211280008, 0.04292343045229149, 0.07153905075381914, 0.05723124060305531, 0.12877029135687446, 0.6295436466336084, 0.07153905075381914, 0.038999880873085375, 0.008863609289337585, 0.10636331147205103, 0.12054508633499116, 0.2499537819593199, 0.359862537147106, 0.1152269207613886, 0.8727625163476007, 0.05063750912387982, 0.05063750912387982, 0.15191252737163946, 0.12659377280969955, 0.2531875456193991, 0.3038250547432789, 0.10127501824775964, 0.06974898366997516, 0.020924695100992548, 0.006974898366997516, 0.08369878040397019, 0.8160631089387094, 0.7745852297432391, 0.7745852283181891, 0.07471389606738826, 0.8965667528086593, 0.024904632022462757, 0.9689366063807877, 0.20103075355788597, 0.40206150711577193, 0.20103075355788597, 0.045226707556857045, 0.045226707556857045, 0.22613353778428524, 0.3165869528979993, 0.36181366045485636, 0.019531858695990403, 0.019531858695990403, 0.17578672826391364, 0.09765929347995202, 0.3515734565278273, 0.24414823369988006, 0.08789336413195682, 0.7745852530504139, 0.05166076784128807, 0.0774911517619321, 0.1549823035238642, 0.18081268744450824, 0.33579499096837245, 0.10332153568257614, 0.10332153568257614, 0.1076801294359522, 0.538400647179761, 0.3230403883078566, 0.9275436347638325, 0.1756586705808286, 0.10037638318904492, 0.42659962855344086, 0.1756586705808286, 0.10037638318904492, 0.15661835627552553, 0.31323671255105107, 0.46985506882657657, 0.014886670861548146, 0.007443335430774073, 0.014886670861548146, 0.052103348015418514, 0.022330006292322218, 0.8857569162621147, 0.03255421514962824, 0.01627710757481412, 0.04883132272444236, 0.22787950604739765, 0.21160239847258352, 0.27671082877184, 0.1790481833229553, 0.8432001524600719, 0.08779961363890705, 0.021949903409726763, 0.043899806819453525, 0.8121464261598902, 0.043899806819453525, 0.10203520188017409, 0.10203520188017409, 0.7142464131612186, 0.10203520188017409, 0.16482802096788257, 0.8241401048394128, 0.8431927562964181, 0.8274388480629966, 0.7126408277122385, 0.11877347128537308, 0.7745852234460108, 0.029885547894782503, 0.16437051342130377, 0.179313287368695, 0.20919883526347752, 0.29885547894782505, 0.11954219157913001, 0.11321028365240142, 0.07547352243493427, 0.07547352243493427, 0.15094704486986854, 0.4151043733921385, 0.15094704486986854, 0.13400123546268328, 0.5360049418507331, 0.26800247092536655, 0.13400123546268328, 0.23981899939538778, 0.03996983323256463, 0.03996983323256463, 0.23981899939538778, 0.31975866586051704, 0.11990949969769389, 0.14817143241044542, 0.4445142972313363, 0.24695238735074238, 0.14817143241044542, 0.04939047747014848, 0.873011621364767, 0.582377739739901, 0.05823777397399011, 0.3494266438439407, 0.0541826837134648, 0.006020298190384978, 0.08428417466538969, 0.10234506923654463, 0.4334614697077184, 0.2648931203769391, 0.06020298190384978, 0.1686090136496045, 0.1686090136496045, 0.337218027299209, 0.337218027299209, 0.21876808366821654, 0.6563042510046496, 0.9523675353285337, 0.8431965319618084, 0.7745853223377251, 0.04424131949529452, 0.08848263899058904, 0.6193784729341234, 0.08848263899058904, 0.1327239584858836, 0.7745852229674776, 0.7512394677305897, 0.8654855967993685, 0.8369649395268766, 0.8368838221124311, 0.25892444375062323, 0.1035697775002493, 0.15535466625037395, 0.1035697775002493, 0.3107093325007479, 0.05178488875012465, 0.16410320926647687, 0.08205160463323843, 0.49230962779943066, 0.16410320926647687, 0.2753815283477355, 0.2753815283477355, 0.2753815283477355, 0.05468169913741024, 0.10936339827482049, 0.05468169913741024, 0.10936339827482049, 0.6014986905115127, 0.10936339827482049, 0.8369880191700805, 0.04588607195500928, 0.02294303597750464, 0.29825946770756034, 0.2753164317300557, 0.36708857564007424, 0.7411966559782699, 0.026144362567620982, 0.026144362567620982, 0.9411970524343554, 0.8431926782539322, 0.9075659643165328, 0.05111507227226697, 0.025557536136133485, 0.05111507227226697, 0.12778768068066743, 0.5111507227226697, 0.10223014454453394, 0.1533452168168009, 0.9282143370854652, 0.7745853001660618, 0.8431750465208324, 0.07879968566499415, 0.026266561888331385, 0.10506624755332554, 0.10506624755332554, 0.38086514738080507, 0.1969992141624854, 0.10506624755332554, 0.02919110096299784, 0.02919110096299784, 0.02919110096299784, 0.043786651444496755, 0.8757330288899352, 0.12330386751269216, 0.24660773502538433, 0.12330386751269216, 0.49321547005076866, 0.09138247466946645, 0.2010414442728262, 0.3472534037439725, 0.16448845440503962, 0.2010414442728262, 0.6319406469204676, 0.8933511699188459, 0.8432734978178078, 0.3147087618531832, 0.4720631427797748, 0.1573543809265916, 0.505327769241299, 0.3368851794941993, 0.2973750685168628, 0.1486875342584314, 0.4460626027752942, 0.8368825159501825, 0.026366807145415026, 0.11865063215436762, 0.039550210718122536, 0.7778208107897433, 0.013183403572707513, 0.6072498852479453, 0.20241662841598176, 0.8274255517598403, 0.6888442260311297, 0.17221105650778243, 0.8728564324935458, 0.01868495074370214, 0.01868495074370214, 0.11210970446221284, 0.130794655205915, 0.5792334730547664, 0.14947960594961712, 0.7745852164830905, 0.8431965151649676, 0.9070412031178074, 0.8274256362220223, 0.8431740077559173, 0.7745852553761106, 0.865063196995329, 0.10424498944495139, 0.04169799577798056, 0.14594298522293195, 0.22933897677889306, 0.375281962001825, 0.02084899788899028, 0.08339599155596111, 0.0287072283782548, 0.1578897560804014, 0.0287072283782548, 0.1291825277021466, 0.6028517959433508, 0.0574144567565096, 0.09487120053688673, 0.8538408048319805, 0.9187845321848759, 0.030577512297095877, 0.12231004918838351, 0.18346507378257526, 0.2751976106738629, 0.09173253689128763, 0.2751976106738629, 0.8368835964649559, 0.020123390139475582, 0.16098712111580465, 0.12074034083685349, 0.1006169506973779, 0.48296136334741396, 0.12074034083685349, 0.7436953082859635, 0.24789843609532117, 0.035017332167056214, 0.008754333041764054, 0.12256066258469675, 0.15757799475175296, 0.21010399300233729, 0.4289623190464386, 0.035017332167056214, 0.18211410620656227, 0.18211410620656227, 0.09105705310328113, 0.27317115930984337, 0.09105705310328113, 0.18211410620656227, 0.9837034429727107, 0.026342001478841064, 0.026342001478841064, 0.05268400295768213, 0.8429440473229141, 0.026342001478841064, 0.8431742999771435, 0.17194420381517075, 0.034388840763034154, 0.5158326114455123, 0.13755536305213661, 0.13755536305213661, 0.17329080154445797, 0.17329080154445797, 0.5198724046333739, 0.010918697018409335, 0.02183739403681867, 0.14194306123932135, 0.14194306123932135, 0.622365730049332, 0.05459348509204667, 0.8728976343885837, 0.032839507389208496, 0.22987655172445945, 0.29555556650287645, 0.36123458128129343, 0.06567901477841699, 0.8369035455215705, 0.7661862773257933, 0.8275530356032541, 0.5907392392271722, 0.14768480980679305, 0.2953696196135861, 0.0255084500089849, 0.2040676000718792, 0.255084500089849, 0.3826267501347735, 0.1530507000539094, 0.11388004804967718, 0.6832802882980631, 0.11388004804967718, 0.8369796237688765, 0.5213702422093178, 0.2606851211046589, 0.08788106056255371, 0.01757621211251074, 0.05272863633753222, 0.19333833323761815, 0.14060969690008593, 0.3866766664752363, 0.10545727267506444, 0.2509759343466729, 0.7529278030400188, 0.7411089871422581, 0.9429226678125852, 0.20465399318269456, 0.6139619795480836, 0.8275509313205673, 0.1079565285397514, 0.8906413604529491, 0.17443365517207873, 0.17443365517207873, 0.5233009655162363, 0.14234005075211145, 0.1897867343361486, 0.04744668358403715, 0.2846801015042229, 0.2846801015042229, 0.2746466311920387, 0.2746466311920387, 0.2746466311920387, 0.5201806520403844, 0.2600903260201922, 0.04151316436640072, 0.9132896160608158, 0.8369410350685007, 0.8651795002821422, 0.0554963515330134, 0.6104598668631473, 0.33297810919808035, 0.8274252862330318, 0.04125300518731955, 0.9488191193083496, 0.04497631579458888, 0.2248815789729444, 0.1124407894864722, 0.06746447369188331, 0.5172276316377721, 0.04497631579458888, 0.6319948877630354, 0.05111624193077121, 0.9200923547538818, 0.9397513439280324, 0.04475006399657298, 0.9117911054699472, 0.11434154064947016, 0.8003907845462912, 0.530144567254363, 0.13253614181359075, 0.13253614181359075, 0.13253614181359075, 0.5043520517724677, 0.25217602588623383, 0.8368819495970562, 0.8727629854578339, 0.10642892055809194, 0.12771470466971033, 0.04257156822323678, 0.6811450915717885, 0.02128578411161839, 0.8650988800965416, 0.9513333906906299, 0.9171940860296915, 0.8650889475011697, 0.827439286028037, 0.24174280410304108, 0.7252284123091232, 0.865088178547594, 0.8650886887741387, 0.8274571356998056, 0.8650633531855073, 0.0218666704358126, 0.109333352179063, 0.8528001469966913, 0.47331530563720986, 0.11832882640930246, 0.11832882640930246, 0.11832882640930246, 0.23665765281860493, 0.7745852139756952, 0.07250162359779376, 0.14500324719558752, 0.12083603932965628, 0.2658392865252438, 0.19333766292745005, 0.1691704550615188, 0.09348839455033509, 0.5609303673020105, 0.09348839455033509, 0.09348839455033509, 0.09348839455033509, 0.15898920034399436, 0.03179784006879887, 0.06359568013759774, 0.09539352020639662, 0.3497762407567876, 0.19078704041279324, 0.09539352020639662, 0.9111643319562189, 0.9281408038837641, 0.8727966122190128, 0.9883624227021389, 0.07204740721015349, 0.03362212336473829, 0.028818962884061394, 0.15370113538166075, 0.7060645906595041, 0.004803160480676898, 0.9273650224564768, 0.8274326762340668, 0.21755717860026907, 0.43511435720053815, 0.21755717860026907, 0.6570319585591264, 0.0484390946922708, 0.9445623464992806, 0.0327870747613463, 0.009367735646098942, 0.056206413876593656, 0.1311482990453852, 0.20609018421417674, 0.5058577248893429, 0.056206413876593656, 0.7745852154411254, 0.4523604095042627, 0.4523604095042627, 0.04717006678420312, 0.2830204007052187, 0.1886802671368125, 0.2830204007052187, 0.1886802671368125, 0.8369796463218626, 0.31013758504199496, 0.6202751700839899, 0.38513573171887444, 0.38513573171887444, 0.976975527110619, 0.8275046000819775, 0.046787709150166015, 0.9357541830033204, 0.8432246222189992, 0.8728052786169205, 0.9659827687914098, 0.16577872421945752, 0.49733617265837254, 0.33155744843891505, 0.15612283461784005, 0.46836850385352014, 0.15612283461784005, 0.15612283461784005, 0.83688350231338, 0.08734203686080591, 0.034936814744322364, 0.15721566634945064, 0.11354464791904768, 0.08734203686080591, 0.41924177693186837, 0.10481044423296709, 0.7745853394764062, 0.017969080421488353, 0.035938160842976706, 0.10781448252893011, 0.43125793011572044, 0.32344344758679033, 0.08984540210744177, 0.8368834639686329, 0.9182473828167065, 0.5213773029246753, 0.26068865146233766, 0.8652734562898957, 0.8727631935610498, 0.8650828282183994, 0.9861882047629428, 0.9794461757696349, 0.5569643159659091, 0.8432001879777459, 0.02772247157945856, 0.13861235789729281, 0.05544494315891712, 0.4712820168507955, 0.27722471579458563, 0.8650888093243861, 0.08957349929102026, 0.17914699858204053, 0.7165879943281621, 0.9287149425839464, 0.843225428288408, 0.11889090641460033, 0.059445453207300165, 0.23778181282920066, 0.11889090641460033, 0.29722726603650085, 0.1783363596219005, 0.8341707420132741, 0.07970641056664082, 0.019926602641660206, 0.17933942377494186, 0.13948621849162143, 0.3786054501915439, 0.09963301320830102, 0.11955961584996123, 0.6569879782990518, 0.08555925094163393, 0.01140790012555119, 0.03422370037665357, 0.07415135081608273, 0.18823035207159464, 0.5019476055242523, 0.09696715106718512, 0.023926737983725542, 0.03589010697558831, 0.17945053487794155, 0.13159705891049048, 0.4665713906826481, 0.023926737983725542, 0.15552379689421603, 0.09014196568135911, 0.3305205408316501, 0.09014196568135911, 0.18028393136271822, 0.18028393136271822, 0.12018928757514549, 0.8652301517772358, 0.7745852263163433, 0.21636478207657284, 0.6490943462297185, 0.16643804545804347, 0.8321902272902174, 0.008445064618630573, 0.1520111631353503, 0.10978584004219744, 0.3969180370756369, 0.1520111631353503, 0.17734635699124202, 0.07918536889310987, 0.07918536889310987, 0.23755610667932958, 0.15837073778621974, 0.3959268444655493, 0.08827850623783876, 0.08827850623783876, 0.70622804990271, 0.08827850623783876, 0.7745852111537623, 0.87278984388263, 0.774585316624966, 0.8274676726959321, 0.36111146692752855, 0.09027786673188214, 0.5416672003912928, 0.6571326084252911, 0.8431965289250577, 0.04188131250434186, 0.12564393751302558, 0.33505050003473485, 0.25128787502605116, 0.25128787502605116, 0.04188131250434186, 0.843175409034076, 0.8431739321064798, 0.9399628400077161, 0.8274963233536744, 0.8274256763771712, 0.06121607270810851, 0.26526964840180356, 0.24486429083243405, 0.36729643624865105, 0.06121607270810851, 0.057363574555912615, 0.11472714911182523, 0.28681787277956305, 0.3441814473354757, 0.17209072366773784, 0.048792759956747145, 0.68309863939446, 0.19517103982698858, 0.048792759956747145, 0.8728447629260285, 0.2761893816320476, 0.5523787632640952, 0.4171929377392608, 0.1390643125797536, 0.1390643125797536, 0.2781286251595072, 0.8275046242984551, 0.05594485421804896, 0.018648284739349652, 0.018648284739349652, 0.05594485421804896, 0.037296569478699304, 0.8205245285313848, 0.018648284739349652, 0.04519415604047084, 0.09038831208094168, 0.04519415604047084, 0.18077662416188336, 0.36155324832376673, 0.271164936242825, 0.24949702566252613, 0.49899405132505226, 0.872936493202248, 0.08023231050317119, 0.40116155251585595, 0.16046462100634237, 0.24069693150951357, 0.16046462100634237, 0.9763075760383966, 0.8369615637606651, 0.03611925997664245, 0.018059629988321224, 0.08126833494744551, 0.09932796493576672, 0.3070137098014608, 0.3160435247956214, 0.13544722491240918, 0.865193996913303, 0.611706147345666, 0.305853073672833, 0.5569429788768554, 0.9513173658411176, 0.843192691565641, 0.872761910519322, 0.8727619365578613, 0.8256562625337854, 0.1651312525067571, 0.8368819073009367, 0.8274257326387567], \"Term\": [\"100\", \"100\", \"1000\", \"11f\", \"14\", \"14\", \"2\", \"2\", \"2\", \"2\", \"2\", \"2\", \"3\", \"3\", \"3\", \"3\", \"3\", \"3\", \"3\", \"32\", \"32\", \"32\", \"4\", \"4\", \"4\", \"4\", \"4\", \"45\", \"45\", \"45\", \"48\", \"48\", \"59\", \"60\", \"60\", \"777\", \"a17\", \"aboard\", \"absolute\", \"absolute\", \"absolute\", \"absolute\", \"accommodating\", \"according\", \"action\", \"actual\", \"actually\", \"actually\", \"actually\", \"actually\", \"aircraft\", \"aircraft\", \"aircraft\", \"aircraft\", \"aircraft\", \"aircraft\", \"aire\", \"airline\", \"airline\", \"airline\", \"airline\", \"airline\", \"airline\", \"airline\", \"airport\", \"airport\", \"airport\", \"airport\", \"airport\", \"airport\", \"airport\", \"airway\", \"airway\", \"airway\", \"airway\", \"airway\", \"airway\", \"airway\", \"alaska\", \"allergy\", \"allergy\", \"also\", \"also\", \"also\", \"also\", \"also\", \"also\", \"althea\", \"america\", \"amex\", \"amsterdam\", \"announcement\", \"announcement\", \"another\", \"another\", \"another\", \"another\", \"another\", \"another\", \"anyway\", \"anyway\", \"anyway\", \"appears\", \"appears\", \"appears\", \"arduous\", \"area\", \"area\", \"area\", \"ashamed\", \"aside\", \"asked\", \"asked\", \"asked\", \"asked\", \"asked\", \"asked\", \"assured\", \"attempted\", \"attentive\", \"australia\", \"avoided\", \"aware\", \"aware\", \"ba\", \"ba\", \"ba\", \"ba\", \"ba\", \"ba\", \"ba\", \"back\", \"back\", \"back\", \"back\", \"back\", \"back\", \"back\", \"bag\", \"bag\", \"bag\", \"bag\", \"bag\", \"bag\", \"baggage\", \"baggage\", \"baggage\", \"baggage\", \"baggage\", \"bangalore\", \"bank\", \"began\", \"beverage\", \"beyond\", \"beyond\", \"beyond\", \"bloom\", \"boarding\", \"boarding\", \"boarding\", \"booked\", \"booked\", \"booked\", \"booked\", \"booked\", \"booked\", \"booking\", \"booking\", \"booking\", \"booking\", \"booking\", \"booking\", \"bother\", \"breakfast\", \"breakfast\", \"british\", \"british\", \"british\", \"british\", \"british\", \"british\", \"british\", \"broken\", \"broken\", \"broken\", \"broken\", \"buenos\", \"bus\", \"bus\", \"bus\", \"bus\", \"bus\", \"business\", \"business\", \"business\", \"business\", \"business\", \"businessfirst\", \"cabin\", \"cabin\", \"cabin\", \"cabin\", \"cabin\", \"cabin\", \"call\", \"call\", \"call\", \"call\", \"call\", \"call\", \"called\", \"called\", \"called\", \"called\", \"called\", \"calling\", \"calling\", \"calling\", \"calm\", \"cancel\", \"cancel\", \"cancel\", \"cancel\", \"canceled\", \"cancelled\", \"cancelled\", \"cancelled\", \"cancelled\", \"cancelled\", \"cancelled\", \"can\\u2019t\", \"can\\u2019t\", \"can\\u2019t\", \"can\\u2019t\", \"card\", \"card\", \"card\", \"carriage\", \"cart\", \"cattle\", \"champagne\", \"chased\", \"check\", \"check\", \"check\", \"check\", \"check\", \"check\", \"choice\", \"choice\", \"choice\", \"choice\", \"class\", \"class\", \"class\", \"class\", \"class\", \"class\", \"clicking\", \"clothes\", \"club\", \"club\", \"club\", \"club\", \"club\", \"club\", \"cocktail\", \"come\", \"come\", \"come\", \"come\", \"come\", \"come\", \"comfortable\", \"comfortable\", \"company\", \"company\", \"company\", \"company\", \"conference\", \"confidence\", \"confirmation\", \"connecting\", \"connecting\", \"connecting\", \"connecting\", \"connecting\", \"considering\", \"considering\", \"considering\", \"contact\", \"contact\", \"contact\", \"contact\", \"continue\", \"continue\", \"continue\", \"contrast\", \"corporation\", \"cost\", \"cost\", \"cost\", \"cost\", \"cost\", \"could\", \"could\", \"could\", \"could\", \"could\", \"could\", \"count\", \"covid19\", \"covid19\", \"crew\", \"crew\", \"crew\", \"crew\", \"crew\", \"crew\", \"crisis\", \"customer\", \"customer\", \"customer\", \"customer\", \"customer\", \"customer\", \"customer\\u2019s\", \"day\", \"day\", \"day\", \"day\", \"day\", \"day\", \"delhi\", \"delta\", \"denver\", \"desk\", \"desk\", \"desk\", \"desk\", \"despair\", \"desperate\", \"detail\", \"detail\", \"detail\", \"detail\", \"detroit\", \"different\", \"different\", \"different\", \"different\", \"dime\", \"dinner\", \"dinner\", \"dissuaded\", \"diversity\", \"dm\", \"drawback\", \"drink\", \"drink\", \"drink\", \"drink\", \"driven\", \"dry\", \"dublin\", \"dublin\", \"dublin\", \"earn\", \"economy\", \"economy\", \"economy\", \"economy\", \"edreams\", \"efficient\", \"eg\", \"email\", \"email\", \"email\", \"email\", \"email\", \"emailed\", \"escalator\", \"escorted\", \"ever\", \"ever\", \"ever\", \"ever\", \"ever\", \"excellent\", \"excellent\", \"experience\", \"experience\", \"experience\", \"experience\", \"experience\", \"experience\", \"experience\", \"experienced\", \"experienced\", \"experienced\", \"experienced\", \"experienced\", \"extra\", \"extra\", \"extra\", \"extra\", \"extra\", \"fastidiously\", \"feeling\", \"feeling\", \"fiction\", \"file\", \"first\", \"first\", \"first\", \"first\", \"first\", \"first\", \"flight\", \"flight\", \"flight\", \"flight\", \"flight\", \"flight\", \"flight\", \"flt\", \"fly\", \"fly\", \"fly\", \"fly\", \"fly\", \"fly\", \"fly\", \"food\", \"food\", \"food\", \"food\", \"food\", \"freed\", \"frenzy\", \"friendly\", \"friendly\", \"friendly\", \"galley\", \"gatwick\", \"gatwick\", \"gatwick\", \"gave\", \"gave\", \"gave\", \"gave\", \"gave\", \"get\", \"get\", \"get\", \"get\", \"get\", \"get\", \"get\", \"gigantic\", \"given\", \"given\", \"given\", \"given\", \"given\", \"given\", \"given\", \"glasgow\", \"glasgow\", \"glasgow\", \"glass\", \"go\", \"go\", \"go\", \"go\", \"go\", \"gold\", \"gold\", \"gold\", \"good\", \"good\", \"good\", \"good\", \"good\", \"good\", \"got\", \"got\", \"got\", \"got\", \"got\", \"got\", \"got\", \"gothenburg\", \"great\", \"great\", \"great\", \"great\", \"great\", \"ground\", \"ground\", \"ground\", \"ground\", \"guarantee\", \"guarantee\", \"gvalhr\", \"ha\", \"hang\", \"hang\", \"hardearned\", \"heathrow\", \"heathrow\", \"heathrow\", \"heathrow\", \"heathrow\", \"heathrow\", \"help\", \"help\", \"help\", \"help\", \"help\", \"help\", \"helped\", \"helped\", \"helped\", \"helped\", \"holiday\", \"holiday\", \"holiday\", \"holiday\", \"holiday\", \"holiday\", \"home\", \"home\", \"home\", \"home\", \"home\", \"horrendous\", \"hotel\", \"hotel\", \"hotel\", \"hour\", \"hour\", \"hour\", \"hour\", \"hour\", \"hour\", \"hour\", \"i\", \"i\", \"i\", \"i\", \"iberia\", \"iberia\", \"ife\", \"industrial\", \"ineptitude\", \"information\", \"information\", \"information\", \"information\", \"information\", \"insecurity\", \"insurance\", \"internet\", \"islamabad\", \"italy\", \"it\\u2019s\", \"it\\u2019s\", \"it\\u2019s\", \"it\\u2019s\", \"it\\u2019s\", \"it\\u2019s\", \"i\\u2019ve\", \"i\\u2019ve\", \"i\\u2019ve\", \"i\\u2019ve\", \"johannesburg\", \"johannesburg\", \"johannesburg\", \"journey\", \"journey\", \"journey\", \"journey\", \"journey\", \"journey\", \"keeping\", \"last\", \"last\", \"last\", \"last\", \"last\", \"lca\", \"leg\", \"leg\", \"leg\", \"lhrzrh\", \"limited\", \"line\", \"line\", \"line\", \"line\", \"line\", \"line\", \"line\", \"literally\", \"locate\", \"lodging\", \"london\", \"london\", \"london\", \"london\", \"london\", \"london\", \"london\", \"lounge\", \"lounge\", \"lounge\", \"lounge\", \"lounge\", \"lovely\", \"lovely\", \"lovely\", \"lovely\", \"luggage\", \"luggage\", \"luggage\", \"luggage\", \"luggage\", \"madeira\", \"madrid\", \"major\", \"manchester\", \"manchester\", \"manchester\", \"march\", \"march\", \"matter\", \"matter\", \"matter\", \"mauritius\", \"meal\", \"meal\", \"meal\", \"meal\", \"meal\", \"mention\", \"mention\", \"mia\", \"miami\", \"miami\", \"mind\", \"minute\", \"minute\", \"minute\", \"minute\", \"minute\", \"minute\", \"misconception\", \"misguided\", \"movie\", \"mum\", \"mykonos\", \"needle\", \"netherlands\", \"never\", \"never\", \"never\", \"never\", \"never\", \"never\", \"never\", \"new\", \"new\", \"new\", \"new\", \"new\", \"new\", \"non\", \"non\", \"nowhere\", \"number\", \"number\", \"number\", \"number\", \"number\", \"number\", \"ny\", \"offered\", \"offered\", \"offered\", \"offered\", \"offered\", \"offered\", \"office\", \"office\", \"one\", \"one\", \"one\", \"one\", \"one\", \"one\", \"one\", \"online\", \"online\", \"online\", \"online\", \"online\", \"online\", \"outbound\", \"overall\", \"overall\", \"overall\", \"overall\", \"overall\", \"overdue\", \"paid\", \"paid\", \"paid\", \"paid\", \"paid\", \"paris\", \"paris\", \"paris\", \"passenger\", \"passenger\", \"passenger\", \"passenger\", \"passenger\", \"passenger\", \"patience\", \"pay\", \"pay\", \"pay\", \"pay\", \"pay\", \"payment\", \"per\", \"personable\", \"personal\", \"personal\", \"personal\", \"phone\", \"phone\", \"phone\", \"phone\", \"phone\", \"pick\", \"pick\", \"pick\", \"pier\", \"placed\", \"placed\", \"plane\", \"plane\", \"plane\", \"plane\", \"plane\", \"plane\", \"plane\", \"planning\", \"planning\", \"plate\", \"pleasant\", \"pm\", \"pm\", \"prague\", \"premium\", \"premium\", \"previously\", \"previously\", \"previously\", \"price\", \"price\", \"price\", \"price\", \"price\", \"procedure\", \"procedure\", \"procedure\", \"processing\", \"processing\", \"product\", \"product\", \"protocol\", \"purposely\", \"put\", \"put\", \"put\", \"qantas\", \"quality\", \"quality\", \"queue\", \"queue\", \"queue\", \"queue\", \"queue\", \"queue\", \"queuing\", \"quick\", \"quick\", \"quite\", \"quite\", \"reasonable\", \"receive\", \"receive\", \"recent\", \"recent\", \"recent\", \"recent\", \"record\", \"record\", \"redemption\", \"referred\", \"refund\", \"refund\", \"refund\", \"refund\", \"refund\", \"refundable\", \"refunded\", \"refuse\", \"relation\", \"remind\", \"repeatedly\", \"repeatedly\", \"replied\", \"respond\", \"road\", \"roughly\", \"row\", \"row\", \"row\", \"rude\", \"rude\", \"rude\", \"rude\", \"rude\", \"rudeness\", \"said\", \"said\", \"said\", \"said\", \"said\", \"said\", \"sat\", \"sat\", \"sat\", \"sat\", \"sat\", \"say\", \"say\", \"say\", \"say\", \"say\", \"say\", \"say\", \"schedule\", \"scone\", \"scotland\", \"screen\", \"seat\", \"seat\", \"seat\", \"seat\", \"seat\", \"seat\", \"seated\", \"seeking\", \"seem\", \"seem\", \"seem\", \"select\", \"served\", \"served\", \"service\", \"service\", \"service\", \"service\", \"service\", \"service\", \"service\", \"shoddy\", \"side\", \"side\", \"since\", \"since\", \"since\", \"since\", \"since\", \"sink\", \"sister\", \"sister\", \"slip\", \"slip\", \"smooth\", \"smoothly\", \"snack\", \"snack\", \"snug\", \"soggy\", \"space\", \"spend\", \"spend\", \"spend\", \"spoke\", \"spoke\", \"spoke\", \"spoke\", \"spoon\", \"staff\", \"staff\", \"staff\", \"staff\", \"staff\", \"staff\", \"staff\", \"stage\", \"still\", \"still\", \"still\", \"still\", \"still\", \"still\", \"stirrer\", \"storage\", \"stowage\", \"stowage\", \"stranger\", \"submission\", \"success\", \"suitcase\", \"suite\", \"supply\", \"sweden\", \"take\", \"take\", \"take\", \"take\", \"take\", \"talk\", \"tell\", \"tell\", \"tell\", \"they\\u2019re\", \"they\\u2019ve\", \"thought\", \"thought\", \"thought\", \"thought\", \"thought\", \"thought\", \"thru\", \"ticket\", \"ticket\", \"ticket\", \"ticket\", \"ticket\", \"ticket\", \"ticket\", \"tier\", \"time\", \"time\", \"time\", \"time\", \"time\", \"time\", \"time\", \"told\", \"told\", \"told\", \"told\", \"told\", \"told\", \"told\", \"travel\", \"travel\", \"travel\", \"travel\", \"travel\", \"travel\", \"traveler\", \"trump\", \"turn\", \"turn\", \"twitter\", \"twitter\", \"u\", \"u\", \"u\", \"u\", \"u\", \"u\", \"uk\", \"uk\", \"uk\", \"uk\", \"uk\", \"unable\", \"unable\", \"unable\", \"unable\", \"unfortunate\", \"unhelpful\", \"united\", \"unusable\", \"upgrade\", \"upgrade\", \"upgrade\", \"upstairs\", \"urgent\", \"use\", \"use\", \"use\", \"use\", \"use\", \"use\", \"vacation\", \"vaccination\", \"vague\", \"visible\", \"voice\", \"voucher\", \"voucher\", \"voucher\", \"voucher\", \"voucher\", \"waited\", \"waited\", \"waited\", \"waited\", \"waited\", \"waiting\", \"waiting\", \"waiting\", \"waiting\", \"warning\", \"warsaw\", \"warsaw\", \"wasn\\u2019t\", \"wasn\\u2019t\", \"wasn\\u2019t\", \"wasn\\u2019t\", \"wednesday\", \"well\", \"well\", \"well\", \"well\", \"well\", \"well\", \"well\", \"went\", \"went\", \"went\", \"went\", \"went\", \"went\", \"weve\", \"weve\", \"we\\u2019ve\", \"whole\", \"whole\", \"whole\", \"whole\", \"whole\", \"wine\", \"wondered\", \"would\", \"would\", \"would\", \"would\", \"would\", \"would\", \"would\", \"wt\", \"york\", \"york\", \"your\", \"zero\", \"zrhlhr\", \"\\u00a3150\", \"\\u00a350\", \"\\u2013\", \"\\u2013\", \"\\u201cthere\", \"\\u20ac500\"]}, \"R\": 30, \"lambda.step\": 0.01, \"plot.opts\": {\"xlab\": \"PC1\", \"ylab\": \"PC2\"}, \"topic.order\": [1, 2, 3, 4, 5, 6, 7]};\n",
       "\n",
       "function LDAvis_load_lib(url, callback){\n",
       "  var s = document.createElement('script');\n",
       "  s.src = url;\n",
       "  s.async = true;\n",
       "  s.onreadystatechange = s.onload = callback;\n",
       "  s.onerror = function(){console.warn(\"failed to load library \" + url);};\n",
       "  document.getElementsByTagName(\"head\")[0].appendChild(s);\n",
       "}\n",
       "\n",
       "if(typeof(LDAvis) !== \"undefined\"){\n",
       "   // already loaded: just create the visualization\n",
       "   !function(LDAvis){\n",
       "       new LDAvis(\"#\" + \"ldavis_el745625985529485128436676896\", ldavis_el745625985529485128436676896_data);\n",
       "   }(LDAvis);\n",
       "}else if(typeof define === \"function\" && define.amd){\n",
       "   // require.js is available: use it to load d3/LDAvis\n",
       "   require.config({paths: {d3: \"https://d3js.org/d3.v5\"}});\n",
       "   require([\"d3\"], function(d3){\n",
       "      window.d3 = d3;\n",
       "      LDAvis_load_lib(\"https://cdn.jsdelivr.net/gh/bmabey/pyLDAvis@3.4.0/pyLDAvis/js/ldavis.v3.0.0.js\", function(){\n",
       "        new LDAvis(\"#\" + \"ldavis_el745625985529485128436676896\", ldavis_el745625985529485128436676896_data);\n",
       "      });\n",
       "    });\n",
       "}else{\n",
       "    // require.js not available: dynamically load d3 & LDAvis\n",
       "    LDAvis_load_lib(\"https://d3js.org/d3.v5.js\", function(){\n",
       "         LDAvis_load_lib(\"https://cdn.jsdelivr.net/gh/bmabey/pyLDAvis@3.4.0/pyLDAvis/js/ldavis.v3.0.0.js\", function(){\n",
       "                 new LDAvis(\"#\" + \"ldavis_el745625985529485128436676896\", ldavis_el745625985529485128436676896_data);\n",
       "            })\n",
       "         });\n",
       "}\n",
       "</script>"
      ],
      "text/plain": [
       "<IPython.core.display.HTML object>"
      ]
     },
     "execution_count": 35,
     "metadata": {},
     "output_type": "execute_result"
    }
   ],
   "source": [
    "lda_display = pyLDAvis.gensim.prepare(ldamodel, doc_term_matrix, dictionary, sort_topics=False, mds='mmds')\n",
    "pyLDAvis.display(lda_display)"
   ]
  },
  {
   "attachments": {},
   "cell_type": "markdown",
   "metadata": {},
   "source": [
    "#### Use model calculated probability to find which reviews belongs to which topics in the dataset identified by the model"
   ]
  },
  {
   "cell_type": "code",
   "execution_count": null,
   "metadata": {},
   "outputs": [],
   "source": []
  }
 ],
 "metadata": {
  "kernelspec": {
   "display_name": "Python 3",
   "language": "python",
   "name": "python3"
  },
  "language_info": {
   "codemirror_mode": {
    "name": "ipython",
    "version": 3
   },
   "file_extension": ".py",
   "mimetype": "text/x-python",
   "name": "python",
   "nbconvert_exporter": "python",
   "pygments_lexer": "ipython3",
   "version": "3.10.10"
  },
  "orig_nbformat": 4,
  "vscode": {
   "interpreter": {
    "hash": "3a4d50cded437740f1cc3d11ac8ad672aa678181b5c63aa3d0858e3e0cb59584"
   }
  }
 },
 "nbformat": 4,
 "nbformat_minor": 2
}
